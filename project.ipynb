{
 "cells": [
  {
   "cell_type": "code",
   "execution_count": 36,
   "id": "2ee0b6aa",
   "metadata": {},
   "outputs": [],
   "source": [
    "import pandas as pd"
   ]
  },
  {
   "cell_type": "code",
   "execution_count": 37,
   "id": "02059e40",
   "metadata": {},
   "outputs": [],
   "source": [
    "df=pd.read_csv('C:\\\\Users\\\\kh\\\\Graduation PJ\\\\UCI_Credit_Card.csv')"
   ]
  },
  {
   "cell_type": "code",
   "execution_count": 38,
   "id": "4d7fcbbe",
   "metadata": {},
   "outputs": [
    {
     "name": "stdout",
     "output_type": "stream",
     "text": [
      "<class 'pandas.core.frame.DataFrame'>\n",
      "RangeIndex: 30000 entries, 0 to 29999\n",
      "Data columns (total 25 columns):\n",
      " #   Column                      Non-Null Count  Dtype  \n",
      "---  ------                      --------------  -----  \n",
      " 0   ID                          30000 non-null  int64  \n",
      " 1   LIMIT_BAL                   30000 non-null  float64\n",
      " 2   SEX                         30000 non-null  int64  \n",
      " 3   EDUCATION                   30000 non-null  int64  \n",
      " 4   MARRIAGE                    30000 non-null  int64  \n",
      " 5   AGE                         30000 non-null  int64  \n",
      " 6   PAY_0                       30000 non-null  int64  \n",
      " 7   PAY_2                       30000 non-null  int64  \n",
      " 8   PAY_3                       30000 non-null  int64  \n",
      " 9   PAY_4                       30000 non-null  int64  \n",
      " 10  PAY_5                       30000 non-null  int64  \n",
      " 11  PAY_6                       30000 non-null  int64  \n",
      " 12  BILL_AMT1                   30000 non-null  float64\n",
      " 13  BILL_AMT2                   30000 non-null  float64\n",
      " 14  BILL_AMT3                   30000 non-null  float64\n",
      " 15  BILL_AMT4                   30000 non-null  float64\n",
      " 16  BILL_AMT5                   30000 non-null  float64\n",
      " 17  BILL_AMT6                   30000 non-null  float64\n",
      " 18  PAY_AMT1                    30000 non-null  float64\n",
      " 19  PAY_AMT2                    30000 non-null  float64\n",
      " 20  PAY_AMT3                    30000 non-null  float64\n",
      " 21  PAY_AMT4                    30000 non-null  float64\n",
      " 22  PAY_AMT5                    30000 non-null  float64\n",
      " 23  PAY_AMT6                    30000 non-null  float64\n",
      " 24  default.payment.next.month  30000 non-null  int64  \n",
      "dtypes: float64(13), int64(12)\n",
      "memory usage: 5.7 MB\n"
     ]
    }
   ],
   "source": [
    "df.info()"
   ]
  },
  {
   "cell_type": "code",
   "execution_count": 39,
   "id": "d37ebfce",
   "metadata": {},
   "outputs": [
    {
     "data": {
      "text/html": [
       "<div>\n",
       "<style scoped>\n",
       "    .dataframe tbody tr th:only-of-type {\n",
       "        vertical-align: middle;\n",
       "    }\n",
       "\n",
       "    .dataframe tbody tr th {\n",
       "        vertical-align: top;\n",
       "    }\n",
       "\n",
       "    .dataframe thead th {\n",
       "        text-align: right;\n",
       "    }\n",
       "</style>\n",
       "<table border=\"1\" class=\"dataframe\">\n",
       "  <thead>\n",
       "    <tr style=\"text-align: right;\">\n",
       "      <th></th>\n",
       "      <th>ID</th>\n",
       "      <th>LIMIT_BAL</th>\n",
       "      <th>SEX</th>\n",
       "      <th>EDUCATION</th>\n",
       "      <th>MARRIAGE</th>\n",
       "      <th>AGE</th>\n",
       "      <th>PAY_0</th>\n",
       "      <th>PAY_2</th>\n",
       "      <th>PAY_3</th>\n",
       "      <th>PAY_4</th>\n",
       "      <th>...</th>\n",
       "      <th>BILL_AMT4</th>\n",
       "      <th>BILL_AMT5</th>\n",
       "      <th>BILL_AMT6</th>\n",
       "      <th>PAY_AMT1</th>\n",
       "      <th>PAY_AMT2</th>\n",
       "      <th>PAY_AMT3</th>\n",
       "      <th>PAY_AMT4</th>\n",
       "      <th>PAY_AMT5</th>\n",
       "      <th>PAY_AMT6</th>\n",
       "      <th>default.payment.next.month</th>\n",
       "    </tr>\n",
       "  </thead>\n",
       "  <tbody>\n",
       "    <tr>\n",
       "      <th>0</th>\n",
       "      <td>1</td>\n",
       "      <td>20000.0</td>\n",
       "      <td>2</td>\n",
       "      <td>2</td>\n",
       "      <td>1</td>\n",
       "      <td>24</td>\n",
       "      <td>2</td>\n",
       "      <td>2</td>\n",
       "      <td>-1</td>\n",
       "      <td>-1</td>\n",
       "      <td>...</td>\n",
       "      <td>0.0</td>\n",
       "      <td>0.0</td>\n",
       "      <td>0.0</td>\n",
       "      <td>0.0</td>\n",
       "      <td>689.0</td>\n",
       "      <td>0.0</td>\n",
       "      <td>0.0</td>\n",
       "      <td>0.0</td>\n",
       "      <td>0.0</td>\n",
       "      <td>1</td>\n",
       "    </tr>\n",
       "    <tr>\n",
       "      <th>1</th>\n",
       "      <td>2</td>\n",
       "      <td>120000.0</td>\n",
       "      <td>2</td>\n",
       "      <td>2</td>\n",
       "      <td>2</td>\n",
       "      <td>26</td>\n",
       "      <td>-1</td>\n",
       "      <td>2</td>\n",
       "      <td>0</td>\n",
       "      <td>0</td>\n",
       "      <td>...</td>\n",
       "      <td>3272.0</td>\n",
       "      <td>3455.0</td>\n",
       "      <td>3261.0</td>\n",
       "      <td>0.0</td>\n",
       "      <td>1000.0</td>\n",
       "      <td>1000.0</td>\n",
       "      <td>1000.0</td>\n",
       "      <td>0.0</td>\n",
       "      <td>2000.0</td>\n",
       "      <td>1</td>\n",
       "    </tr>\n",
       "    <tr>\n",
       "      <th>2</th>\n",
       "      <td>3</td>\n",
       "      <td>90000.0</td>\n",
       "      <td>2</td>\n",
       "      <td>2</td>\n",
       "      <td>2</td>\n",
       "      <td>34</td>\n",
       "      <td>0</td>\n",
       "      <td>0</td>\n",
       "      <td>0</td>\n",
       "      <td>0</td>\n",
       "      <td>...</td>\n",
       "      <td>14331.0</td>\n",
       "      <td>14948.0</td>\n",
       "      <td>15549.0</td>\n",
       "      <td>1518.0</td>\n",
       "      <td>1500.0</td>\n",
       "      <td>1000.0</td>\n",
       "      <td>1000.0</td>\n",
       "      <td>1000.0</td>\n",
       "      <td>5000.0</td>\n",
       "      <td>0</td>\n",
       "    </tr>\n",
       "    <tr>\n",
       "      <th>3</th>\n",
       "      <td>4</td>\n",
       "      <td>50000.0</td>\n",
       "      <td>2</td>\n",
       "      <td>2</td>\n",
       "      <td>1</td>\n",
       "      <td>37</td>\n",
       "      <td>0</td>\n",
       "      <td>0</td>\n",
       "      <td>0</td>\n",
       "      <td>0</td>\n",
       "      <td>...</td>\n",
       "      <td>28314.0</td>\n",
       "      <td>28959.0</td>\n",
       "      <td>29547.0</td>\n",
       "      <td>2000.0</td>\n",
       "      <td>2019.0</td>\n",
       "      <td>1200.0</td>\n",
       "      <td>1100.0</td>\n",
       "      <td>1069.0</td>\n",
       "      <td>1000.0</td>\n",
       "      <td>0</td>\n",
       "    </tr>\n",
       "    <tr>\n",
       "      <th>4</th>\n",
       "      <td>5</td>\n",
       "      <td>50000.0</td>\n",
       "      <td>1</td>\n",
       "      <td>2</td>\n",
       "      <td>1</td>\n",
       "      <td>57</td>\n",
       "      <td>-1</td>\n",
       "      <td>0</td>\n",
       "      <td>-1</td>\n",
       "      <td>0</td>\n",
       "      <td>...</td>\n",
       "      <td>20940.0</td>\n",
       "      <td>19146.0</td>\n",
       "      <td>19131.0</td>\n",
       "      <td>2000.0</td>\n",
       "      <td>36681.0</td>\n",
       "      <td>10000.0</td>\n",
       "      <td>9000.0</td>\n",
       "      <td>689.0</td>\n",
       "      <td>679.0</td>\n",
       "      <td>0</td>\n",
       "    </tr>\n",
       "  </tbody>\n",
       "</table>\n",
       "<p>5 rows × 25 columns</p>\n",
       "</div>"
      ],
      "text/plain": [
       "   ID  LIMIT_BAL  SEX  EDUCATION  MARRIAGE  AGE  PAY_0  PAY_2  PAY_3  PAY_4  \\\n",
       "0   1    20000.0    2          2         1   24      2      2     -1     -1   \n",
       "1   2   120000.0    2          2         2   26     -1      2      0      0   \n",
       "2   3    90000.0    2          2         2   34      0      0      0      0   \n",
       "3   4    50000.0    2          2         1   37      0      0      0      0   \n",
       "4   5    50000.0    1          2         1   57     -1      0     -1      0   \n",
       "\n",
       "   ...  BILL_AMT4  BILL_AMT5  BILL_AMT6  PAY_AMT1  PAY_AMT2  PAY_AMT3  \\\n",
       "0  ...        0.0        0.0        0.0       0.0     689.0       0.0   \n",
       "1  ...     3272.0     3455.0     3261.0       0.0    1000.0    1000.0   \n",
       "2  ...    14331.0    14948.0    15549.0    1518.0    1500.0    1000.0   \n",
       "3  ...    28314.0    28959.0    29547.0    2000.0    2019.0    1200.0   \n",
       "4  ...    20940.0    19146.0    19131.0    2000.0   36681.0   10000.0   \n",
       "\n",
       "   PAY_AMT4  PAY_AMT5  PAY_AMT6  default.payment.next.month  \n",
       "0       0.0       0.0       0.0                           1  \n",
       "1    1000.0       0.0    2000.0                           1  \n",
       "2    1000.0    1000.0    5000.0                           0  \n",
       "3    1100.0    1069.0    1000.0                           0  \n",
       "4    9000.0     689.0     679.0                           0  \n",
       "\n",
       "[5 rows x 25 columns]"
      ]
     },
     "execution_count": 39,
     "metadata": {},
     "output_type": "execute_result"
    }
   ],
   "source": [
    "df.head(\n",
    "    \n",
    ")"
   ]
  },
  {
   "cell_type": "code",
   "execution_count": 40,
   "id": "82cb9863",
   "metadata": {},
   "outputs": [
    {
     "data": {
      "text/html": [
       "<div>\n",
       "<style scoped>\n",
       "    .dataframe tbody tr th:only-of-type {\n",
       "        vertical-align: middle;\n",
       "    }\n",
       "\n",
       "    .dataframe tbody tr th {\n",
       "        vertical-align: top;\n",
       "    }\n",
       "\n",
       "    .dataframe thead th {\n",
       "        text-align: right;\n",
       "    }\n",
       "</style>\n",
       "<table border=\"1\" class=\"dataframe\">\n",
       "  <thead>\n",
       "    <tr style=\"text-align: right;\">\n",
       "      <th></th>\n",
       "      <th>ID</th>\n",
       "      <th>LIMIT_BAL</th>\n",
       "      <th>SEX</th>\n",
       "      <th>EDUCATION</th>\n",
       "      <th>MARRIAGE</th>\n",
       "      <th>AGE</th>\n",
       "      <th>PAY_0</th>\n",
       "      <th>PAY_2</th>\n",
       "      <th>PAY_3</th>\n",
       "      <th>PAY_4</th>\n",
       "      <th>...</th>\n",
       "      <th>BILL_AMT4</th>\n",
       "      <th>BILL_AMT5</th>\n",
       "      <th>BILL_AMT6</th>\n",
       "      <th>PAY_AMT1</th>\n",
       "      <th>PAY_AMT2</th>\n",
       "      <th>PAY_AMT3</th>\n",
       "      <th>PAY_AMT4</th>\n",
       "      <th>PAY_AMT5</th>\n",
       "      <th>PAY_AMT6</th>\n",
       "      <th>default.payment.next.month</th>\n",
       "    </tr>\n",
       "  </thead>\n",
       "  <tbody>\n",
       "    <tr>\n",
       "      <th>count</th>\n",
       "      <td>30000.000000</td>\n",
       "      <td>30000.000000</td>\n",
       "      <td>30000.000000</td>\n",
       "      <td>30000.000000</td>\n",
       "      <td>30000.000000</td>\n",
       "      <td>30000.000000</td>\n",
       "      <td>30000.000000</td>\n",
       "      <td>30000.000000</td>\n",
       "      <td>30000.000000</td>\n",
       "      <td>30000.000000</td>\n",
       "      <td>...</td>\n",
       "      <td>30000.000000</td>\n",
       "      <td>30000.000000</td>\n",
       "      <td>30000.000000</td>\n",
       "      <td>30000.000000</td>\n",
       "      <td>3.000000e+04</td>\n",
       "      <td>30000.00000</td>\n",
       "      <td>30000.000000</td>\n",
       "      <td>30000.000000</td>\n",
       "      <td>30000.000000</td>\n",
       "      <td>30000.000000</td>\n",
       "    </tr>\n",
       "    <tr>\n",
       "      <th>mean</th>\n",
       "      <td>15000.500000</td>\n",
       "      <td>167484.322667</td>\n",
       "      <td>1.603733</td>\n",
       "      <td>1.853133</td>\n",
       "      <td>1.551867</td>\n",
       "      <td>35.485500</td>\n",
       "      <td>-0.016700</td>\n",
       "      <td>-0.133767</td>\n",
       "      <td>-0.166200</td>\n",
       "      <td>-0.220667</td>\n",
       "      <td>...</td>\n",
       "      <td>43262.948967</td>\n",
       "      <td>40311.400967</td>\n",
       "      <td>38871.760400</td>\n",
       "      <td>5663.580500</td>\n",
       "      <td>5.921163e+03</td>\n",
       "      <td>5225.68150</td>\n",
       "      <td>4826.076867</td>\n",
       "      <td>4799.387633</td>\n",
       "      <td>5215.502567</td>\n",
       "      <td>0.221200</td>\n",
       "    </tr>\n",
       "    <tr>\n",
       "      <th>std</th>\n",
       "      <td>8660.398374</td>\n",
       "      <td>129747.661567</td>\n",
       "      <td>0.489129</td>\n",
       "      <td>0.790349</td>\n",
       "      <td>0.521970</td>\n",
       "      <td>9.217904</td>\n",
       "      <td>1.123802</td>\n",
       "      <td>1.197186</td>\n",
       "      <td>1.196868</td>\n",
       "      <td>1.169139</td>\n",
       "      <td>...</td>\n",
       "      <td>64332.856134</td>\n",
       "      <td>60797.155770</td>\n",
       "      <td>59554.107537</td>\n",
       "      <td>16563.280354</td>\n",
       "      <td>2.304087e+04</td>\n",
       "      <td>17606.96147</td>\n",
       "      <td>15666.159744</td>\n",
       "      <td>15278.305679</td>\n",
       "      <td>17777.465775</td>\n",
       "      <td>0.415062</td>\n",
       "    </tr>\n",
       "    <tr>\n",
       "      <th>min</th>\n",
       "      <td>1.000000</td>\n",
       "      <td>10000.000000</td>\n",
       "      <td>1.000000</td>\n",
       "      <td>0.000000</td>\n",
       "      <td>0.000000</td>\n",
       "      <td>21.000000</td>\n",
       "      <td>-2.000000</td>\n",
       "      <td>-2.000000</td>\n",
       "      <td>-2.000000</td>\n",
       "      <td>-2.000000</td>\n",
       "      <td>...</td>\n",
       "      <td>-170000.000000</td>\n",
       "      <td>-81334.000000</td>\n",
       "      <td>-339603.000000</td>\n",
       "      <td>0.000000</td>\n",
       "      <td>0.000000e+00</td>\n",
       "      <td>0.00000</td>\n",
       "      <td>0.000000</td>\n",
       "      <td>0.000000</td>\n",
       "      <td>0.000000</td>\n",
       "      <td>0.000000</td>\n",
       "    </tr>\n",
       "    <tr>\n",
       "      <th>25%</th>\n",
       "      <td>7500.750000</td>\n",
       "      <td>50000.000000</td>\n",
       "      <td>1.000000</td>\n",
       "      <td>1.000000</td>\n",
       "      <td>1.000000</td>\n",
       "      <td>28.000000</td>\n",
       "      <td>-1.000000</td>\n",
       "      <td>-1.000000</td>\n",
       "      <td>-1.000000</td>\n",
       "      <td>-1.000000</td>\n",
       "      <td>...</td>\n",
       "      <td>2326.750000</td>\n",
       "      <td>1763.000000</td>\n",
       "      <td>1256.000000</td>\n",
       "      <td>1000.000000</td>\n",
       "      <td>8.330000e+02</td>\n",
       "      <td>390.00000</td>\n",
       "      <td>296.000000</td>\n",
       "      <td>252.500000</td>\n",
       "      <td>117.750000</td>\n",
       "      <td>0.000000</td>\n",
       "    </tr>\n",
       "    <tr>\n",
       "      <th>50%</th>\n",
       "      <td>15000.500000</td>\n",
       "      <td>140000.000000</td>\n",
       "      <td>2.000000</td>\n",
       "      <td>2.000000</td>\n",
       "      <td>2.000000</td>\n",
       "      <td>34.000000</td>\n",
       "      <td>0.000000</td>\n",
       "      <td>0.000000</td>\n",
       "      <td>0.000000</td>\n",
       "      <td>0.000000</td>\n",
       "      <td>...</td>\n",
       "      <td>19052.000000</td>\n",
       "      <td>18104.500000</td>\n",
       "      <td>17071.000000</td>\n",
       "      <td>2100.000000</td>\n",
       "      <td>2.009000e+03</td>\n",
       "      <td>1800.00000</td>\n",
       "      <td>1500.000000</td>\n",
       "      <td>1500.000000</td>\n",
       "      <td>1500.000000</td>\n",
       "      <td>0.000000</td>\n",
       "    </tr>\n",
       "    <tr>\n",
       "      <th>75%</th>\n",
       "      <td>22500.250000</td>\n",
       "      <td>240000.000000</td>\n",
       "      <td>2.000000</td>\n",
       "      <td>2.000000</td>\n",
       "      <td>2.000000</td>\n",
       "      <td>41.000000</td>\n",
       "      <td>0.000000</td>\n",
       "      <td>0.000000</td>\n",
       "      <td>0.000000</td>\n",
       "      <td>0.000000</td>\n",
       "      <td>...</td>\n",
       "      <td>54506.000000</td>\n",
       "      <td>50190.500000</td>\n",
       "      <td>49198.250000</td>\n",
       "      <td>5006.000000</td>\n",
       "      <td>5.000000e+03</td>\n",
       "      <td>4505.00000</td>\n",
       "      <td>4013.250000</td>\n",
       "      <td>4031.500000</td>\n",
       "      <td>4000.000000</td>\n",
       "      <td>0.000000</td>\n",
       "    </tr>\n",
       "    <tr>\n",
       "      <th>max</th>\n",
       "      <td>30000.000000</td>\n",
       "      <td>1000000.000000</td>\n",
       "      <td>2.000000</td>\n",
       "      <td>6.000000</td>\n",
       "      <td>3.000000</td>\n",
       "      <td>79.000000</td>\n",
       "      <td>8.000000</td>\n",
       "      <td>8.000000</td>\n",
       "      <td>8.000000</td>\n",
       "      <td>8.000000</td>\n",
       "      <td>...</td>\n",
       "      <td>891586.000000</td>\n",
       "      <td>927171.000000</td>\n",
       "      <td>961664.000000</td>\n",
       "      <td>873552.000000</td>\n",
       "      <td>1.684259e+06</td>\n",
       "      <td>896040.00000</td>\n",
       "      <td>621000.000000</td>\n",
       "      <td>426529.000000</td>\n",
       "      <td>528666.000000</td>\n",
       "      <td>1.000000</td>\n",
       "    </tr>\n",
       "  </tbody>\n",
       "</table>\n",
       "<p>8 rows × 25 columns</p>\n",
       "</div>"
      ],
      "text/plain": [
       "                 ID       LIMIT_BAL           SEX     EDUCATION      MARRIAGE  \\\n",
       "count  30000.000000    30000.000000  30000.000000  30000.000000  30000.000000   \n",
       "mean   15000.500000   167484.322667      1.603733      1.853133      1.551867   \n",
       "std     8660.398374   129747.661567      0.489129      0.790349      0.521970   \n",
       "min        1.000000    10000.000000      1.000000      0.000000      0.000000   \n",
       "25%     7500.750000    50000.000000      1.000000      1.000000      1.000000   \n",
       "50%    15000.500000   140000.000000      2.000000      2.000000      2.000000   \n",
       "75%    22500.250000   240000.000000      2.000000      2.000000      2.000000   \n",
       "max    30000.000000  1000000.000000      2.000000      6.000000      3.000000   \n",
       "\n",
       "                AGE         PAY_0         PAY_2         PAY_3         PAY_4  \\\n",
       "count  30000.000000  30000.000000  30000.000000  30000.000000  30000.000000   \n",
       "mean      35.485500     -0.016700     -0.133767     -0.166200     -0.220667   \n",
       "std        9.217904      1.123802      1.197186      1.196868      1.169139   \n",
       "min       21.000000     -2.000000     -2.000000     -2.000000     -2.000000   \n",
       "25%       28.000000     -1.000000     -1.000000     -1.000000     -1.000000   \n",
       "50%       34.000000      0.000000      0.000000      0.000000      0.000000   \n",
       "75%       41.000000      0.000000      0.000000      0.000000      0.000000   \n",
       "max       79.000000      8.000000      8.000000      8.000000      8.000000   \n",
       "\n",
       "       ...      BILL_AMT4      BILL_AMT5      BILL_AMT6       PAY_AMT1  \\\n",
       "count  ...   30000.000000   30000.000000   30000.000000   30000.000000   \n",
       "mean   ...   43262.948967   40311.400967   38871.760400    5663.580500   \n",
       "std    ...   64332.856134   60797.155770   59554.107537   16563.280354   \n",
       "min    ... -170000.000000  -81334.000000 -339603.000000       0.000000   \n",
       "25%    ...    2326.750000    1763.000000    1256.000000    1000.000000   \n",
       "50%    ...   19052.000000   18104.500000   17071.000000    2100.000000   \n",
       "75%    ...   54506.000000   50190.500000   49198.250000    5006.000000   \n",
       "max    ...  891586.000000  927171.000000  961664.000000  873552.000000   \n",
       "\n",
       "           PAY_AMT2      PAY_AMT3       PAY_AMT4       PAY_AMT5  \\\n",
       "count  3.000000e+04   30000.00000   30000.000000   30000.000000   \n",
       "mean   5.921163e+03    5225.68150    4826.076867    4799.387633   \n",
       "std    2.304087e+04   17606.96147   15666.159744   15278.305679   \n",
       "min    0.000000e+00       0.00000       0.000000       0.000000   \n",
       "25%    8.330000e+02     390.00000     296.000000     252.500000   \n",
       "50%    2.009000e+03    1800.00000    1500.000000    1500.000000   \n",
       "75%    5.000000e+03    4505.00000    4013.250000    4031.500000   \n",
       "max    1.684259e+06  896040.00000  621000.000000  426529.000000   \n",
       "\n",
       "            PAY_AMT6  default.payment.next.month  \n",
       "count   30000.000000                30000.000000  \n",
       "mean     5215.502567                    0.221200  \n",
       "std     17777.465775                    0.415062  \n",
       "min         0.000000                    0.000000  \n",
       "25%       117.750000                    0.000000  \n",
       "50%      1500.000000                    0.000000  \n",
       "75%      4000.000000                    0.000000  \n",
       "max    528666.000000                    1.000000  \n",
       "\n",
       "[8 rows x 25 columns]"
      ]
     },
     "execution_count": 40,
     "metadata": {},
     "output_type": "execute_result"
    }
   ],
   "source": [
    "df.describe()"
   ]
  },
  {
   "cell_type": "code",
   "execution_count": 41,
   "id": "26d99c5b",
   "metadata": {},
   "outputs": [],
   "source": [
    "df.rename(columns={'default.payment.next.month': 'default'}, inplace=True)\n",
    "df.drop(columns=['ID'], inplace=True)"
   ]
  },
  {
   "cell_type": "code",
   "execution_count": 42,
   "id": "44396849",
   "metadata": {},
   "outputs": [
    {
     "data": {
      "text/html": [
       "<div>\n",
       "<style scoped>\n",
       "    .dataframe tbody tr th:only-of-type {\n",
       "        vertical-align: middle;\n",
       "    }\n",
       "\n",
       "    .dataframe tbody tr th {\n",
       "        vertical-align: top;\n",
       "    }\n",
       "\n",
       "    .dataframe thead th {\n",
       "        text-align: right;\n",
       "    }\n",
       "</style>\n",
       "<table border=\"1\" class=\"dataframe\">\n",
       "  <thead>\n",
       "    <tr style=\"text-align: right;\">\n",
       "      <th></th>\n",
       "      <th>LIMIT_BAL</th>\n",
       "      <th>SEX</th>\n",
       "      <th>EDUCATION</th>\n",
       "      <th>MARRIAGE</th>\n",
       "      <th>AGE</th>\n",
       "      <th>PAY_0</th>\n",
       "      <th>PAY_2</th>\n",
       "      <th>PAY_3</th>\n",
       "      <th>PAY_4</th>\n",
       "      <th>PAY_5</th>\n",
       "      <th>...</th>\n",
       "      <th>BILL_AMT4</th>\n",
       "      <th>BILL_AMT5</th>\n",
       "      <th>BILL_AMT6</th>\n",
       "      <th>PAY_AMT1</th>\n",
       "      <th>PAY_AMT2</th>\n",
       "      <th>PAY_AMT3</th>\n",
       "      <th>PAY_AMT4</th>\n",
       "      <th>PAY_AMT5</th>\n",
       "      <th>PAY_AMT6</th>\n",
       "      <th>default</th>\n",
       "    </tr>\n",
       "  </thead>\n",
       "  <tbody>\n",
       "    <tr>\n",
       "      <th>count</th>\n",
       "      <td>30000.000000</td>\n",
       "      <td>30000.000000</td>\n",
       "      <td>30000.000000</td>\n",
       "      <td>30000.000000</td>\n",
       "      <td>30000.000000</td>\n",
       "      <td>30000.000000</td>\n",
       "      <td>30000.000000</td>\n",
       "      <td>30000.000000</td>\n",
       "      <td>30000.000000</td>\n",
       "      <td>30000.000000</td>\n",
       "      <td>...</td>\n",
       "      <td>30000.000000</td>\n",
       "      <td>30000.000000</td>\n",
       "      <td>30000.000000</td>\n",
       "      <td>30000.000000</td>\n",
       "      <td>3.000000e+04</td>\n",
       "      <td>30000.00000</td>\n",
       "      <td>30000.000000</td>\n",
       "      <td>30000.000000</td>\n",
       "      <td>30000.000000</td>\n",
       "      <td>30000.000000</td>\n",
       "    </tr>\n",
       "    <tr>\n",
       "      <th>mean</th>\n",
       "      <td>167484.322667</td>\n",
       "      <td>1.603733</td>\n",
       "      <td>1.853133</td>\n",
       "      <td>1.551867</td>\n",
       "      <td>35.485500</td>\n",
       "      <td>-0.016700</td>\n",
       "      <td>-0.133767</td>\n",
       "      <td>-0.166200</td>\n",
       "      <td>-0.220667</td>\n",
       "      <td>-0.266200</td>\n",
       "      <td>...</td>\n",
       "      <td>43262.948967</td>\n",
       "      <td>40311.400967</td>\n",
       "      <td>38871.760400</td>\n",
       "      <td>5663.580500</td>\n",
       "      <td>5.921163e+03</td>\n",
       "      <td>5225.68150</td>\n",
       "      <td>4826.076867</td>\n",
       "      <td>4799.387633</td>\n",
       "      <td>5215.502567</td>\n",
       "      <td>0.221200</td>\n",
       "    </tr>\n",
       "    <tr>\n",
       "      <th>std</th>\n",
       "      <td>129747.661567</td>\n",
       "      <td>0.489129</td>\n",
       "      <td>0.790349</td>\n",
       "      <td>0.521970</td>\n",
       "      <td>9.217904</td>\n",
       "      <td>1.123802</td>\n",
       "      <td>1.197186</td>\n",
       "      <td>1.196868</td>\n",
       "      <td>1.169139</td>\n",
       "      <td>1.133187</td>\n",
       "      <td>...</td>\n",
       "      <td>64332.856134</td>\n",
       "      <td>60797.155770</td>\n",
       "      <td>59554.107537</td>\n",
       "      <td>16563.280354</td>\n",
       "      <td>2.304087e+04</td>\n",
       "      <td>17606.96147</td>\n",
       "      <td>15666.159744</td>\n",
       "      <td>15278.305679</td>\n",
       "      <td>17777.465775</td>\n",
       "      <td>0.415062</td>\n",
       "    </tr>\n",
       "    <tr>\n",
       "      <th>min</th>\n",
       "      <td>10000.000000</td>\n",
       "      <td>1.000000</td>\n",
       "      <td>0.000000</td>\n",
       "      <td>0.000000</td>\n",
       "      <td>21.000000</td>\n",
       "      <td>-2.000000</td>\n",
       "      <td>-2.000000</td>\n",
       "      <td>-2.000000</td>\n",
       "      <td>-2.000000</td>\n",
       "      <td>-2.000000</td>\n",
       "      <td>...</td>\n",
       "      <td>-170000.000000</td>\n",
       "      <td>-81334.000000</td>\n",
       "      <td>-339603.000000</td>\n",
       "      <td>0.000000</td>\n",
       "      <td>0.000000e+00</td>\n",
       "      <td>0.00000</td>\n",
       "      <td>0.000000</td>\n",
       "      <td>0.000000</td>\n",
       "      <td>0.000000</td>\n",
       "      <td>0.000000</td>\n",
       "    </tr>\n",
       "    <tr>\n",
       "      <th>25%</th>\n",
       "      <td>50000.000000</td>\n",
       "      <td>1.000000</td>\n",
       "      <td>1.000000</td>\n",
       "      <td>1.000000</td>\n",
       "      <td>28.000000</td>\n",
       "      <td>-1.000000</td>\n",
       "      <td>-1.000000</td>\n",
       "      <td>-1.000000</td>\n",
       "      <td>-1.000000</td>\n",
       "      <td>-1.000000</td>\n",
       "      <td>...</td>\n",
       "      <td>2326.750000</td>\n",
       "      <td>1763.000000</td>\n",
       "      <td>1256.000000</td>\n",
       "      <td>1000.000000</td>\n",
       "      <td>8.330000e+02</td>\n",
       "      <td>390.00000</td>\n",
       "      <td>296.000000</td>\n",
       "      <td>252.500000</td>\n",
       "      <td>117.750000</td>\n",
       "      <td>0.000000</td>\n",
       "    </tr>\n",
       "    <tr>\n",
       "      <th>50%</th>\n",
       "      <td>140000.000000</td>\n",
       "      <td>2.000000</td>\n",
       "      <td>2.000000</td>\n",
       "      <td>2.000000</td>\n",
       "      <td>34.000000</td>\n",
       "      <td>0.000000</td>\n",
       "      <td>0.000000</td>\n",
       "      <td>0.000000</td>\n",
       "      <td>0.000000</td>\n",
       "      <td>0.000000</td>\n",
       "      <td>...</td>\n",
       "      <td>19052.000000</td>\n",
       "      <td>18104.500000</td>\n",
       "      <td>17071.000000</td>\n",
       "      <td>2100.000000</td>\n",
       "      <td>2.009000e+03</td>\n",
       "      <td>1800.00000</td>\n",
       "      <td>1500.000000</td>\n",
       "      <td>1500.000000</td>\n",
       "      <td>1500.000000</td>\n",
       "      <td>0.000000</td>\n",
       "    </tr>\n",
       "    <tr>\n",
       "      <th>75%</th>\n",
       "      <td>240000.000000</td>\n",
       "      <td>2.000000</td>\n",
       "      <td>2.000000</td>\n",
       "      <td>2.000000</td>\n",
       "      <td>41.000000</td>\n",
       "      <td>0.000000</td>\n",
       "      <td>0.000000</td>\n",
       "      <td>0.000000</td>\n",
       "      <td>0.000000</td>\n",
       "      <td>0.000000</td>\n",
       "      <td>...</td>\n",
       "      <td>54506.000000</td>\n",
       "      <td>50190.500000</td>\n",
       "      <td>49198.250000</td>\n",
       "      <td>5006.000000</td>\n",
       "      <td>5.000000e+03</td>\n",
       "      <td>4505.00000</td>\n",
       "      <td>4013.250000</td>\n",
       "      <td>4031.500000</td>\n",
       "      <td>4000.000000</td>\n",
       "      <td>0.000000</td>\n",
       "    </tr>\n",
       "    <tr>\n",
       "      <th>max</th>\n",
       "      <td>1000000.000000</td>\n",
       "      <td>2.000000</td>\n",
       "      <td>6.000000</td>\n",
       "      <td>3.000000</td>\n",
       "      <td>79.000000</td>\n",
       "      <td>8.000000</td>\n",
       "      <td>8.000000</td>\n",
       "      <td>8.000000</td>\n",
       "      <td>8.000000</td>\n",
       "      <td>8.000000</td>\n",
       "      <td>...</td>\n",
       "      <td>891586.000000</td>\n",
       "      <td>927171.000000</td>\n",
       "      <td>961664.000000</td>\n",
       "      <td>873552.000000</td>\n",
       "      <td>1.684259e+06</td>\n",
       "      <td>896040.00000</td>\n",
       "      <td>621000.000000</td>\n",
       "      <td>426529.000000</td>\n",
       "      <td>528666.000000</td>\n",
       "      <td>1.000000</td>\n",
       "    </tr>\n",
       "  </tbody>\n",
       "</table>\n",
       "<p>8 rows × 24 columns</p>\n",
       "</div>"
      ],
      "text/plain": [
       "            LIMIT_BAL           SEX     EDUCATION      MARRIAGE           AGE  \\\n",
       "count    30000.000000  30000.000000  30000.000000  30000.000000  30000.000000   \n",
       "mean    167484.322667      1.603733      1.853133      1.551867     35.485500   \n",
       "std     129747.661567      0.489129      0.790349      0.521970      9.217904   \n",
       "min      10000.000000      1.000000      0.000000      0.000000     21.000000   \n",
       "25%      50000.000000      1.000000      1.000000      1.000000     28.000000   \n",
       "50%     140000.000000      2.000000      2.000000      2.000000     34.000000   \n",
       "75%     240000.000000      2.000000      2.000000      2.000000     41.000000   \n",
       "max    1000000.000000      2.000000      6.000000      3.000000     79.000000   \n",
       "\n",
       "              PAY_0         PAY_2         PAY_3         PAY_4         PAY_5  \\\n",
       "count  30000.000000  30000.000000  30000.000000  30000.000000  30000.000000   \n",
       "mean      -0.016700     -0.133767     -0.166200     -0.220667     -0.266200   \n",
       "std        1.123802      1.197186      1.196868      1.169139      1.133187   \n",
       "min       -2.000000     -2.000000     -2.000000     -2.000000     -2.000000   \n",
       "25%       -1.000000     -1.000000     -1.000000     -1.000000     -1.000000   \n",
       "50%        0.000000      0.000000      0.000000      0.000000      0.000000   \n",
       "75%        0.000000      0.000000      0.000000      0.000000      0.000000   \n",
       "max        8.000000      8.000000      8.000000      8.000000      8.000000   \n",
       "\n",
       "       ...      BILL_AMT4      BILL_AMT5      BILL_AMT6       PAY_AMT1  \\\n",
       "count  ...   30000.000000   30000.000000   30000.000000   30000.000000   \n",
       "mean   ...   43262.948967   40311.400967   38871.760400    5663.580500   \n",
       "std    ...   64332.856134   60797.155770   59554.107537   16563.280354   \n",
       "min    ... -170000.000000  -81334.000000 -339603.000000       0.000000   \n",
       "25%    ...    2326.750000    1763.000000    1256.000000    1000.000000   \n",
       "50%    ...   19052.000000   18104.500000   17071.000000    2100.000000   \n",
       "75%    ...   54506.000000   50190.500000   49198.250000    5006.000000   \n",
       "max    ...  891586.000000  927171.000000  961664.000000  873552.000000   \n",
       "\n",
       "           PAY_AMT2      PAY_AMT3       PAY_AMT4       PAY_AMT5  \\\n",
       "count  3.000000e+04   30000.00000   30000.000000   30000.000000   \n",
       "mean   5.921163e+03    5225.68150    4826.076867    4799.387633   \n",
       "std    2.304087e+04   17606.96147   15666.159744   15278.305679   \n",
       "min    0.000000e+00       0.00000       0.000000       0.000000   \n",
       "25%    8.330000e+02     390.00000     296.000000     252.500000   \n",
       "50%    2.009000e+03    1800.00000    1500.000000    1500.000000   \n",
       "75%    5.000000e+03    4505.00000    4013.250000    4031.500000   \n",
       "max    1.684259e+06  896040.00000  621000.000000  426529.000000   \n",
       "\n",
       "            PAY_AMT6       default  \n",
       "count   30000.000000  30000.000000  \n",
       "mean     5215.502567      0.221200  \n",
       "std     17777.465775      0.415062  \n",
       "min         0.000000      0.000000  \n",
       "25%       117.750000      0.000000  \n",
       "50%      1500.000000      0.000000  \n",
       "75%      4000.000000      0.000000  \n",
       "max    528666.000000      1.000000  \n",
       "\n",
       "[8 rows x 24 columns]"
      ]
     },
     "execution_count": 42,
     "metadata": {},
     "output_type": "execute_result"
    }
   ],
   "source": [
    "df.describe()"
   ]
  },
  {
   "cell_type": "code",
   "execution_count": 43,
   "id": "9e989c42",
   "metadata": {},
   "outputs": [],
   "source": [
    "import seaborn as sns\n",
    "import matplotlib.pyplot as plt\n",
    "import plotly.express as px\n"
   ]
  },
  {
   "cell_type": "code",
   "execution_count": 44,
   "id": "94b683a2",
   "metadata": {},
   "outputs": [
    {
     "data": {
      "image/png": "[encoded data removed]",
      "text/plain": [
       "<Figure size 800x500 with 1 Axes>"
      ]
     },
     "metadata": {},
     "output_type": "display_data"
    }
   ],
   "source": [
    "plt.figure(figsize=(8,5))\n",
    "sns.boxplot(x='default',y='LIMIT_BAL',data=df)\n",
    "plt.title('Boxplot of LIMIT_BAL by Default')\n",
    "plt.xlabel('Default')\n",
    "plt.ylabel('Credit Limit')\n",
    "plt.show()"
   ]
  },
  {
   "cell_type": "code",
   "execution_count": 45,
   "id": "79453fab",
   "metadata": {},
   "outputs": [
    {
     "data": {
      "image/png": "[encoded data removed]",
      "text/plain": [
       "<Figure size 1000x600 with 1 Axes>"
      ]
     },
     "metadata": {},
     "output_type": "display_data"
    }
   ],
   "source": [
    "plt.figure(figsize=(10,6))\n",
    "sns.countplot(x='EDUCATION', hue='default', data=df)\n",
    "plt.title('Countplot of Education Level by Default')\n",
    "plt.xlabel('Education Level')\n",
    "plt.ylabel('Count')\n",
    "plt.legend(title='Default', loc='upper right')\n",
    "plt.show()"
   ]
  },
  {
   "cell_type": "code",
   "execution_count": 46,
   "id": "c9853234",
   "metadata": {},
   "outputs": [
    {
     "data": {
      "application/vnd.plotly.v1+json": {
       "config": {
        "plotlyServerURL": "https://plot.ly"
       },
       "data": [
        {
         "alignmentgroup": "True",
         "bingroup": "x",
         "hovertemplate": "default=1<br>SEX=%{x}<br>count=%{y}<extra></extra>",
         "legendgroup": "1",
         "marker": {
          "color": "#636efa",
          "pattern": {
           "shape": ""
          }
         },
         "name": "1",
         "offsetgroup": "1",
         "orientation": "v",
         "showlegend": true,
         "texttemplate": "%{value}",
         "type": "histogram",
         "x": {
          "bdata": "AgIBAQICAgEBAQECAgECAQIBAQECAgECAQECAQEBAQIBAQIBAgECAQICAgICAgICAgICAgEBAQICAgECAQICAQIBAgEBAgECAQECAgICAgICAgEBAgECAQECAgEBAgECAgICAQICAgICAQEBAQEBAgECAgICAQECAgECAgIBAgECAgEBAQECAQIBAgIBAgECAQIBAQECAgICAQIBAQECAgICAQICAgICAgECAQECAQICAQIBAQICAgIBAgECAgEBAQECAQICAQIBAQECAQEBAQECAgIBAgECAgICAgEBAgIBAgECAgIBAgICAQICAgECAgIBAgICAQICAgIBAgECAgICAgECAgECAgEBAQIBAgIBAgEBAgICAQIBAQECAgICAgECAgICAQECAgICAgIBAQIBAQICAgECAgICAQICAgECAgICAQICAgECAgIBAQICAgIBAQECAgEBAgECAgEBAQIBAgICAQECAQIBAgECAQECAQICAgICAQECAgIBAgEBAgICAQEBAgECAgICAQIBAQECAgECAgICAgEBAgEBAgICAgECAQICAgEBAQICAgECAQEBAgICAgIBAgIBAgIBAQIBAQEBAgICAgEBAQIBAQECAQEBAgECAQICAQIBAQICAQECAgEBAgICAQICAgECAQICAQICAQIBAgICAgIBAQIBAQIBAQEBAQECAQEBAgIBAgECAgICAQIBAgECAgEBAgIBAgEBAgIBAgEBAQEBAgEBAgIBAQECAQIBAQICAgECAgECAgEBAgECAgIBAQICAgICAQECAgEBAgECAQIBAQECAgEBAgIBAgICAgICAgECAgEBAQICAgICAgIBAgICAQICAQECAgEBAgIBAgECAgICAgEBAQECAgECAgIBAQEBAQIBAgIBAQIBAgECAgEBAQICAgECAgICAgICAgICAQEBAQICAQIBAQICAgIBAgICAQIBAQICAQICAgECAgEBAgIBAgIBAgEBAgICAgECAgEBAgIBAgIBAgECAQECAgECAgIBAQEBAQECAQIBAgICAgIBAQICAQICAgEBAQICAQEBAQEBAgICAQICAQECAQECAQICAgECAgEBAQICAgICAgICAgECAgIBAQEBAQEBAgICAgICAQECAQICAQICAQEBAQECAgIBAgEBAgICAgICAgICAQICAQEBAgICAQIBAQIBAgICAgICAQIBAgEBAgECAQECAQIBAQICAQECAgICAgECAQEBAQICAgECAQICAQIBAQIBAQECAgEBAQICAgEBAQICAgICAQIBAQICAQECAgECAgECAQICAgEBAQEBAgECAQIBAQICAQIBAQEBAQECAgICAQEBAQEBAQECAgEBAgECAgICAQEBAgECAgIBAgEBAgEBAgICAQICAQICAQICAQECAgEBAgECAQIBAQICAQICAQICAgECAgECAQICAgIBAgECAgIBAgEBAQECAQICAgECAQIBAQIBAgIBAQIBAQIBAgICAgEBAQICAQICAgIBAQICAgEBAgIBAQEBAQECAgEBAQICAQICAQICAgICAgICAgECAgEBAQIBAgICAgIBAQIBAQEBAQIBAQEBAgICAQECAgEBAgICAQEBAgIBAQICAgEBAgICAQICAgECAgICAQIBAgICAgICAgICAgIBAgECAgIBAgICAgIBAgECAQICAgECAQECAQIBAgECAgICAQIBAgICAgIBAgICAQIBAgECAgICAQICAgIBAQIBAgICAgICAgEBAQICAQIBAgIBAgICAgEBAgIBAgECAgIBAgECAQICAgICAQIBAQICAgIBAgIBAQECAQIBAQICAgIBAQEBAgECAQECAgIBAgIBAQIBAgEBAQECAQECAQICAQICAgIBAgIBAQIBAQEBAgICAQECAQICAQICAQECAgICAgECAQECAQECAgIBAgEBAgIBAQICAQICAQECAQICAgECAQECAgIBAQICAQEBAQICAQIBAQECAQEBAgECAgECAQICAQEBAgICAQEBAQIBAgIBAQECAgECAQICAQECAQIBAQECAgIBAQECAQICAgICAQEBAgEBAQIBAQEBAQICAgIBAQICAQECAgECAgICAgICAgECAgEBAgEBAgICAgIBAQECAgICAgECAgICAQICAQIBAgECAgIBAgICAgEBAgICAgEBAQICAgIBAQECAQICAgEBAgICAgECAgIBAgIBAQIBAgIBAgICAQEBAQIBAQIBAgECAgICAQEBAQECAQECAQEBAgICAgICAgECAQICAQIBAQECAQICAgIBAQICAQECAgIBAQIBAgECAQEBAQIBAgECAQEBAgECAgIBAQEBAgECAQIBAgICAQIBAQICAgIBAQEBAgIBAgECAgIBAQECAgICAgEBAgICAQICAQEBAgEBAgIBAQECAgICAgICAgEBAQIBAgIBAgEBAQEBAQIBAQEBAgIBAQEBAQECAgIBAQIBAgEBAQIBAgECAQECAQEBAQECAQIBAgIBAgEBAgEBAQEBAgECAQIBAgIBAgEBAQICAgIBAQEBAQEBAQIBAgECAgIBAgICAgIBAgIBAQECAQEBAgECAgIBAQICAgIBAgECAQICAQECAQECAQECAgIBAQIBAgICAQECAgIBAQIBAgECAQECAgEBAQECAQICAgEBAQICAgICAQECAgICAQICAgICAgEBAgEBAQEBAgECAQICAgICAgICAQIBAQICAQEBAgECAgICAQIBAQECAgICAgICAgEBAgECAQEBAgIBAgEBAQEBAgICAQIBAgICAQIBAgIBAgICAgIBAQEBAgICAQICAgICAQICAQIBAQIBAQICAgICAgEBAQEBAgECAgEBAgECAQECAQECAgEBAgICAQIBAQEBAgEBAQICAQEBAQECAQIBAgIBAgIBAQEBAQECAQIBAQIBAgIBAgICAQIBAgECAgIBAgICAQICAQEBAQECAQIBAgECAgICAgICAQIBAQIBAgICAQECAgECAQIBAgECAgIBAQIBAQIBAQEBAgICAgECAgICAgEBAgICAgICAgECAgICAQECAQICAQICAQECAgIBAQICAQEBAQECAgIBAgECAQEBAQEBAQICAgIBAgIBAQECAQECAQIBAQICAQIBAgECAgICAgICAQIBAgECAQICAgECAgIBAgIBAgIBAgECAgECAQICAgECAQEBAgECAgECAgECAgEBAgEBAQEBAQECAQEBAQICAQECAQEBAgIBAgICAQECAgECAQEBAgECAgIBAgIBAgECAgICAQICAgIBAQIBAgICAQICAQEBAgICAQECAQIBAgIBAQICAQIBAQIBAgECAgICAgECAQIBAgEBAgIBAQICAQICAgECAQECAQICAgICAgEBAgEBAgECAgICAQECAgIBAgICAgEBAgEBAgIBAQICAgICAQIBAgICAQIBAQECAQIBAQECAQIBAQICAQEBAgECAQICAgECAgEBAgECAQECAQICAgEBAQECAgICAgEBAQEBAQIBAgICAgEBAgICAQIBAgEBAgEBAgICAQECAgEBAQICAgECAgIBAQIBAQICAgICAQECAgIBAQECAQICAgIBAQICAQEBAQICAQECAQIBAQEBAgECAgIBAgEBAQIBAQEBAgEBAgECAQIBAgEBAgECAgICAgICAQECAgECAgICAgICAgICAgICAQICAgECAgICAgIBAgICAQEBAgICAQICAQICAgECAQECAgECAQIBAQICAgEBAQICAgIBAgICAQICAgIBAQECAgICAgEBAgIBAgECAQECAgICAQIBAgEBAQICAgECAgIBAgEBAQIBAgICAQEBAQEBAgEBAQEBAgEBAQICAgEBAQICAQECAgECAQECAgEBAgIBAgIBAgECAQECAQEBAgEBAQIBAQECAQIBAQICAgICAQEBAgICAgICAgICAgICAQECAQIBAQIBAQECAQECAgEBAQECAgECAQICAgIBAgICAgECAgICAQEBAgIBAQIBAQICAgIBAQICAQECAgICAgEBAgEBAQEBAQEBAgECAQECAgICAQEBAQICAgICAQICAgIBAQIBAgEBAgIBAQICAgIBAgEBAQEBAgICAgIBAQECAQEBAgICAgIBAgIBAQEBAQIBAgECAgEBAgECAQECAgICAQIBAgICAgICAgECAgICAgIBAgIBAQIBAgEBAgECAgECAgIBAQECAQIBAQIBAQICAQICAQICAQICAgECAQECAgEBAQICAQICAgICAgICAQECAQECAgEBAgIBAgIBAgICAQICAgIBAgICAQEBAQEBAQECAQECAQEBAgECAgECAgEBAgICAQECAQEBAgEBAQICAQEBAQEBAgEBAgIBAQIBAQICAQICAgICAQECAQECAQEBAgEBAQICAgEBAQECAgECAQECAgICAgICAgEBAgECAQEBAQIBAgECAgECAgIBAgIBAgEBAgECAgICAgEBAgECAgIBAgEBAQICAQECAgECAQEBAQEBAQEBAQEBAQEBAQEBAQEBAQEBAQEBAgECAgICAgICAgICAgICAgICAgICAgICAgICAgICAgICAgICAgICAgICAgICAgICAQEBAQEBAQEBAQEBAQEBAQEBAQEBAQEBAQEBAQEBAQEBAQEBAQEBAQEBAQEBAQECAQICAgICAgICAgEBAQEBAQEBAQECAgICAgICAgICAgICAgICAgICAgICAgICAgICAgICAgICAgICAgICAgICAgICAgICAgICAgICAgICAgICAgICAgICAgICAgICAgICAgICAgICAgICAgICAgICAgICAgICAgICAgICAgICAgICAgICAgICAgICAgICAgICAgICAgICAgICAgICAgICAgICAgICAgICAgICAgICAgICAgICAgICAgICAgICAgICAgICAgICAgICAgICAgICAgICAgICAgICAgICAgICAgICAgICAgICAgIBAQEBAQEBAQEBAQEBAQEBAQEBAQEBAQEBAQEBAQEBAQEBAQEBAQEBAQEBAQEBAQEBAQEBAQEBAQEBAQEBAQEBAQEBAQEBAQEBAQEBAQEBAQEBAQEBAQEBAQEBAQEBAQEBAQEBAQEBAQEBAQEBAQEBAQEBAQEBAQEBAQEBAQEBAQEBAQEBAQEBAQEBAQEBAQEBAQICAgICAgICAgICAgICAgICAgICAgICAgICAgICAgICAgICAgICAgICAgICAgICAgICAgICAgICAgICAgICAgICAgICAgICAgICAgICAgICAgICAgICAgICAgICAgICAgICAgICAgICAgICAgICAgICAgICAgICAgICAgICAgICAgICAgICAgICAgICAgICAgICAgICAgICAgICAgICAgICAgICAgICAgICAgICAgICAgICAgICAgICAgICAgICAgICAgICAgICAgICAgICAgICAgICAQEBAQEBAQEBAQEBAQEBAQEBAQEBAQEBAQEBAQEBAQEBAQEBAQEBAQEBAQEBAQEBAQEBAQEBAQEBAQEBAQEBAQEBAQEBAQEBAQEBAQEBAQEBAQEBAQEBAQEBAQEBAQEBAQEBAQEBAQEBAQEBAQEBAQEBAQEBAQEBAQEBAQEBAQEBAgEBAgICAgICAgICAgICAgICAgICAgICAgICAgICAgICAgICAgICAgICAgICAgICAgICAgICAgICAgICAgICAgICAgICAgICAgICAgICAgICAgICAgICAgICAgICAgICAgICAgICAgICAgICAgICAgICAgICAgICAgICAgICAgICAgICAgICAgICAgICAgICAgICAgICAgICAgICAgICAgICAgICAgICAgICAgICAgICAgICAgICAgICAgICAgICAgICAgICAgICAgICAgICAgICAgICAgICAgICAgICAgICAgICAgICAgICAgICAgICAgICAgICAgICAgICAgICAgICAgICAgICAgICAgICAgICAgICAgICAgICAgICAgICAgICAgICAgICAgICAgICAgICAgICAgICAgICAgICAgICAgICAgICAgICAgICAgICAgICAgICAgICAgICAgICAgICAgICAgICAgICAgICAgICAgICAgICAgICAgICAgICAgICAgICAgICAgICAgICAgICAQEBAQEBAQEBAQEBAQEBAQEBAQEBAQEBAQEBAQEBAQEBAQEBAQEBAQEBAQEBAQEBAQEBAQEBAQEBAQEBAQEBAQEBAQEBAQEBAQEBAQEBAQEBAQEBAQEBAQEBAQEBAQEBAQEBAQEBAQEBAQEBAQEBAQEBAQEBAQEBAQEBAQEBAQEBAQEBAQEBAQEBAQEBAQEBAQEBAQEBAQEBAQEBAQEBAQEBAQEBAQEBAQEBAQEBAQEBAQEBAQEBAQEBAQEBAQEBAQEBAQEBAQEBAQEBAQEBAQEBAQEBAQEBAQEBAQEBAQEBAQEBAQEBAQEBAQEBAQEBAQEBAQEBAQEBAQEBAQEBAQEBAQEBAQEBAQEBAgICAgICAgICAgICAgICAgICAgICAgICAgICAgICAgICAgICAgICAgICAgICAgICAgICAgICAgICAgICAgICAgICAgICAgICAgICAgICAgICAgICAgICAgICAgICAgICAgICAgICAgICAgICAgICAgICAgICAgICAgICAgICAgICAgICAgICAgICAgICAgICAgICAgICAgICAgICAgICAgICAgICAgICAgICAgICAgICAgICAgICAgICAgICAgICAgICAgICAgICAgICAgICAgICAgICAgIBAgICAgICAgICAgICAgICAgICAgICAgICAgICAgICAgICAgICAgICAgICAgICAgICAgICAgICAgICAgICAgICAgICAgICAgICAgICAgICAgICAgICAgICAgICAgICAgICAgICAgICAgICAgICAgICAgICAgICAgICAgICAgICAgICAgICAgICAgICAgICAgICAgICAgICAgICAgICAgICAgICAgICAgICAgICAgICAgICAgICAgICAgICAgICAgICAgICAgICAgICAgICAgICAgICAgICAgICAgICAgICAgICAgICAgICAgICAgICAQEBAQEBAQEBAQEBAQEBAQEBAQEBAQEBAQEBAQEBAQEBAQEBAQEBAQEBAQEBAQECAQEBAQEBAQEBAQEBAQEBAQEBAQEBAQEBAQEBAQEBAQEBAQEBAQEBAQEBAQEBAQEBAQEBAQEBAQEBAQEBAQEBAQEBAQEBAQEBAQEBAQEBAQEBAQEBAQEBAQEBAQEBAQEBAQEBAQEBAQEBAQEBAQEBAQEBAQEBAQEBAQECAgEBAQEBAQEBAQEBAQEBAQEBAQEBAQEBAQEBAQEBAQEBAQEBAQEBAQEBAQEBAQEBAQEBAQEBAQEBAQEBAQEBAQEBAQEBAQEBAQEBAQEBAQEBAQEBAQEBAQEBAQEBAQEBAQECAgICAgICAgICAgICAgICAgICAgICAgICAgICAgICAgICAgICAgICAgICAgICAgICAgICAgICAgICAgICAgICAgICAgICAgICAgICAgICAgICAgICAgICAgICAgICAgICAgICAgICAgICAgICAgICAgICAgICAgICAgICAgICAgICAgICAgICAgICAgICAgICAgICAgICAgICAgICAgICAgICAgICAgICAgICAgICAgICAgICAgICAgICAgICAgICAgICAgICAgICAgICAgICAgICAgICAgICAgICAgICAgICAgICAgICAgICAgICAgICAgICAgICAgICAgICAgICAgICAgICAgEBAQEBAgEBAQEBAQEBAQEBAQEBAQEBAQEBAQEBAQEBAQEBAQEBAQEBAQEBAQEBAQEBAQEBAQEBAQEBAQEBAQEBAQEBAQEBAQEBAQEBAQEBAQEBAQEBAQEBAQEBAQEBAQEBAQEBAQEBAQEBAQEBAQEBAQEBAQEBAQEBAQEBAQEBAQEBAQEBAQEBAQEBAQEBAQEBAQEBAQEBAQEBAQEBAQEBAQEBAQEBAQEBAQEBAQEBAQEBAQEBAQEBAQEBAQEBAQEBAQEBAQEBAQEBAQEBAQEBAQEBAQEBAQEBAQEBAQEBAQEBAQEBAQEBAQEBAQEBAQEBAQEBAQEBAQEBAQICAgICAgICAgICAgICAgICAgICAgICAgICAgICAgICAgICAgICAgICAgICAgICAgICAgICAgICAgICAgICAgICAgICAgICAgICAgICAgICAgICAgICAgICAgICAgICAgICAgICAgICAgICAgICAgICAgICAgICAgICAgICAgICAgICAgICAgICAgICAgICAgICAgICAgICAgICAgICAgICAgICAgICAgICAgICAgICAgICAgICAgICAgICAgICAgICAgICAgICAgICAgICAgICAgICAgICAgICAgICAgICAgICAgICAgICAgICAgICAgICAgICAgICAgICAgICAgICAgICAgICAgICAgICAgICAgICAgICAgICAgICAgICAgICAgICAgICAgICAgICAgICAgICAgICAgIBAQEBAQEBAQEBAQEBAQEBAQEBAQEBAQEBAQEBAQEBAQEBAQEBAQEBAQEBAQEBAQEBAQEBAQEBAQEBAQEBAQEBAQEBAQEBAQEBAQEBAQEBAQEBAQEBAQEBAQEBAQEBAQEBAQEBAQEBAQEBAQEBAQEBAQEBAQEBAQEBAQEBAQEBAQEBAQEBAQEBAQEBAQEBAQEBAQEBAQEBAQEBAQEBAQEBAQEBAQEBAQEBAQEBAQEBAQEBAQEBAQEBAQEBAQEBAQEBAQEB",
          "dtype": "i1"
         },
         "xaxis": "x",
         "yaxis": "y"
        },
        {
         "alignmentgroup": "True",
         "bingroup": "x",
         "hovertemplate": "default=0<br>SEX=%{x}<br>count=%{y}<extra></extra>",
         "legendgroup": "0",
         "marker": {
          "color": "#EF553B",
          "pattern": {
           "shape": ""
          }
         },
         "name": "0",
         "offsetgroup": "0",
         "orientation": "v",
         "showlegend": true,
         "texttemplate": "%{value}",
         "type": "histogram",
         "x": {
          "bdata": "AgIBAQECAgECAgIBAgECAgIBAQICAQIBAgEBAQIBAQIBAgIBAQICAgICAgICAgECAgIBAQICAQEBAgICAgIBAgIBAgICAgEBAQIBAgECAgIBAQECAQECAQEBAgIBAQEBAgEBAQIBAQIBAQEBAQEBAgIBAQECAgECAgEBAQECAgIBAQICAQICAQEBAgIBAgIBAgICAQICAQICAgIBAgECAQECAQIBAQEBAgICAgICAQECAgECAQICAgECAgICAgIBAQIBAgIBAgICAgECAgICAQIBAQICAgECAgECAgICAQICAQEBAgICAQICAgICAgICAgEBAgICAQIBAgEBAQICAQICAgICAQIBAgICAgEBAgECAQIBAgECAgIBAQECAQEBAQIBAgEBAgIBAQECAQIBAgICAQIBAQIBAgECAgICAgIBAQICAgIBAgICAgECAQIBAQICAQICAQIBAgEBAQECAgICAgIBAQICAQECAgECAgECAgECAQIBAgICAQIBAgECAQICAgEBAgICAQEBAgEBAQICAgICAgEBAgEBAQECAQICAgICAgICAgECAgICAgECAQICAQICAQECAgIBAgIBAQEBAQIBAgICAgEBAQEBAQICAgECAgECAgICAQEBAgECAgECAgICAgICAQEBAgECAgIBAgIBAgEBAgIBAgECAgECAgECAgICAgECAgICAgICAQICAgICAgEBAgEBAQEBAQICAgECAgICAQIBAQECAgECAgICAgICAQICAQICAQECAQICAgICAgIBAgECAgICAgECAgICAgICAgICAQICAQECAgIBAQIBAQICAgECAgEBAgICAgICAgECAgECAgICAgICAgICAgECAQICAgECAgECAgICAgECAgIBAgICAgEBAgICAQIBAQIBAgIBAgICAgIBAgIBAgICAQIBAgECAgECAQIBAQEBAgEBAgICAQICAQIBAQEBAQICAgECAgECAgECAgECAQICAQICAgIBAQICAgECAQIBAQEBAQEBAgICAgICAQICAQECAgECAQICAQEBAQICAQICAQIBAgEBAQICAgECAgIBAQECAQIBAgIBAgEBAgICAgEBAgEBAQECAgIBAQIBAQIBAQECAQEBAgICAQICAgICAgIBAQEBAQEBAQICAgICAgECAgEBAQECAQICAQICAgIBAgECAQECAgECAgIBAgECAQIBAgIBAgEBAgICAQIBAgICAQICAgIBAQECAgEBAgICAgEBAgICAQECAQICAgECAgIBAQECAgECAgEBAgIBAQECAgECAQICAQECAgECAQEBAQIBAQEBAQICAgICAgICAQIBAQICAQIBAgECAQICAgIBAgECAQIBAQICAgEBAQECAQECAgICAgEBAQECAQIBAgECAgICAgICAgECAQECAgIBAQICAgIBAgICAgECAgEBAgIBAQECAQICAgEBAgECAgICAgICAQICAQECAgIBAgEBAQICAgIBAQECAgICAQECAgIBAQEBAgICAQICAQIBAQEBAgEBAgICAQIBAQEBAQEBAQECAgECAQECAQIBAgECAgECAgEBAgECAgECAQECAgICAQIBAgIBAQECAgIBAgEBAgICAQIBAQICAgICAQEBAgIBAgECAgIBAQICAgIBAgICAQICAgECAQICAgIBAQICAgIBAQICAgICAgICAgIBAQICAQIBAQICAQECAgICAQECAgECAQECAQIBAQECAQICAgIBAQIBAQECAQIBAQIBAgIBAQICAgEBAgICAgECAQECAgICAQICAgECAgIBAgIBAgECAgIBAgECAQEBAQIBAQICAgICAgICAQEBAgIBAgEBAQICAQECAgICAQEBAgECAQICAQICAgIBAQICAQECAgECAgECAQECAgEBAgICAgICAgIBAgEBAQECAgICAgEBAQECAgIBAgIBAQECAQICAgIBAgICAgIBAQICAQIBAQICAgECAQECAQICAgECAQICAgECAgEBAgICAgIBAQICAgIBAQECAQIBAQIBAQECAQEBAgEBAgECAgICAgECAQICAQEBAgECAQECAQIBAQECAQICAgIBAQICAQEBAgIBAgICAgIBAgEBAQICAgICAgICAgICAQIBAgICAgEBAgEBAgEBAgECAQEBAQICAQEBAQIBAQECAgIBAgECAgIBAQIBAgICAgIBAQECAgIBAgICAQICAQICAgICAQECAQECAgIBAQIBAgEBAQECAgIBAgEBAQICAgECAgEBAQIBAQICAgECAQIBAQECAQIBAQEBAQICAgEBAQICAQICAQEBAQICAQEBAQICAgICAgECAQICAgICAQIBAgICAQICAgICAgECAgECAgICAQIBAgECAgIBAgIBAQIBAQECAgIBAgICAQICAgEBAgEBAgICAgECAQICAQECAgICAQECAgICAgEBAgEBAQEBAQEBAgIBAgEBAgIBAgECAgIBAgICAQICAQEBAQICAgECAQICAgECAQEBAgIBAgICAgEBAgIBAgICAgEBAgEBAgICAgECAQICAQICAgEBAgICAgIBAgICAgIBAQECAQICAQEBAgIBAgICAgIBAQEBAgICAgICAgEBAgECAgECAQICAQECAQEBAgEBAQECAQICAgEBAgECAgIBAQECAgICAgIBAgEBAgICAgECAgECAQICAQICAgEBAQEBAQECAQIBAgICAgICAQECAQICAQICAQEBAgEBAQECAgICAgIBAgIBAgICAQECAQIBAQICAQICAQIBAQICAQIBAgECAgICAQECAgICAgIBAgICAgIBAgIBAgECAgICAgIBAQIBAgICAgICAQIBAgIBAgICAgECAQICAgIBAgEBAgICAgEBAgIBAgICAgIBAgECAgIBAgEBAQICAQIBAQICAQICAQICAQICAgIBAgECAgICAgICAQICAgICAgIBAgIBAQICAQECAQIBAgICAgECAQICAgICAQECAQECAQICAQICAQIBAgECAQEBAQIBAQECAgEBAgIBAQICAQECAgICAgEBAgEBAQEBAQICAgECAgEBAgICAgIBAgICAQIBAgICAgECAQIBAQECAgIBAQECAgECAgIBAQIBAgECAgECAQEBAgIBAgICAQEBAgEBAQEBAQEBAQECAgIBAQEBAQIBAQEBAQEBAgECAQIBAQICAgICAgECAQIBAgEBAgECAgECAgEBAgECAgIBAQEBAQICAQICAgEBAQIBAgICAQIBAgICAgEBAQECAgIBAQICAQIBAgICAQECAgECAgECAQECAQECAgICAQECAQICAgIBAQEBAQICAQIBAgIBAgIBAQIBAQICAgECAgICAgICAgICAgICAgECAQECAQIBAgIBAQEBAgECAQECAgECAQICAgICAgICAgECAgIBAQECAQICAQECAgICAgIBAQECAQICAgICAQICAgECAgEBAQECAgEBAQICAQECAQECAgICAgECAgIBAQIBAgICAgECAQEBAQICAgECAgICAQICAgICAgICAgICAQIBAQIBAQEBAgECAQICAQIBAgIBAgECAgICAQIBAQIBAQECAgECAgIBAQICAgICAQICAgECAQICAgECAQICAgIBAQICAQIBAgIBAQICAQICAQIBAQECAQEBAgIBAgICAgEBAgEBAgEBAQICAgEBAgICAgEBAgIBAgIBAgICAQICAgIBAgEBAQECAQICAgECAQEBAQICAgEBAQICAgECAQEBAQICAQICAQICAQEBAQEBAQIBAgECAQECAgICAgIBAgICAQICAgICAgIBAQICAQIBAgEBAgEBAQECAgECAgIBAgIBAgICAgICAQICAgIBAQECAQICAQIBAgIBAQIBAgEBAQIBAQEBAgICAgIBAQIBAQICAQICAgIBAQICAgEBAQECAgIBAgIBAgECAgICAQICAgIBAQIBAgECAgICAgEBAQIBAgEBAQICAQICAQICAQECAgICAQICAQICAgIBAQECAQICAQICAgIBAQIBAQEBAQICAgICAgECAgICAQEBAQECAQIBAQECAQECAgIBAQICAQIBAQICAgEBAgICAQIBAgEBAQICAgIBAgECAgICAgECAgEBAQECAgIBAgECAgIBAgECAQEBAgECAgICAQIBAQICAgECAgECAgIBAgICAgIBAgIBAgEBAgIBAQECAgEBAgICAQICAQICAQICAgEBAQEBAgICAQECAgEBAgEBAQEBAgIBAgICAQECAgICAQICAQEBAgICAgICAgICAgIBAgECAgECAgEBAgICAgEBAgICAQIBAgEBAgEBAQIBAgICAQIBAQEBAgEBAgECAgEBAgIBAgIBAgICAQECAQECAgIBAQIBAgECAQICAQICAQIBAQICAQEBAQECAQECAQIBAgECAQIBAQECAQICAQICAgIBAgECAQICAgIBAQECAgICAgICAgEBAgECAgICAQECAgICAQICAQEBAgEBAgECAQICAQIBAgICAgIBAgEBAgICAgEBAQECAgECAgICAgICAgICAgIBAgIBAQIBAgIBAQIBAgEBAQEBAgIBAQECAQECAgICAQICAQICAgICAgECAgECAgICAQIBAQECAgEBAQIBAgICAgIBAgEBAQICAQECAgECAQICAQIBAQICAQEBAQECAQEBAQECAgECAgICAQIBAQECAgECAQICAgECAgIBAgICAQICAgECAgECAQICAgICAQICAgIBAQICAQECAQECAgECAQIBAQEBAQICAgEBAQIBAgIBAgIBAgEBAQEBAgECAQICAQICAgICAQEBAQIBAQICAgEBAQICAQICAgICAgEBAgECAQIBAQECAgICAQICAgECAQIBAQICAQECAgIBAgICAgECAgEBAgIBAgEBAgICAQICAQIBAQECAQIBAQEBAQECAQECAgIBAgECAgECAQEBAQIBAgECAgECAQICAgECAQIBAQIBAgIBAgEBAQIBAQEBAgIBAQICAgICAgICAQECAgICAQIBAgIBAQICAQIBAgECAgICAQICAgICAQIBAQICAgIBAgICAQIBAgICAgICAgICAgIBAgICAgECAQEBAQECAgICAgICAQECAgEBAgIBAQEBAQECAgIBAQEBAQECAQICAQICAQIBAgIBAQICAgICAQICAQICAgICAQICAgICAQECAgICAgIBAgIBAgICAgICAQECAgIBAgEBAQIBAgIBAgECAQIBAgICAgICAQICAQICAQECAgIBAgICAgECAgICAgICAgICAQEBAgECAQICAQIBAgEBAgEBAgIBAgICAQICAQICAQEBAgIBAgICAgEBAgEBAQIBAQIBAQECAQICAgICAQICAQIBAQEBAgICAgICAQIBAQECAgIBAgIBAQIBAgECAQEBAgICAgEBAQECAQECAgICAgICAQICAgIBAgICAgECAgIBAgECAQICAgEBAQIBAgECAgICAgICAgEBAQIBAgICAQICAQECAQECAQICAQICAgECAgICAQICAgEBAgICAgECAQICAQICAgIBAgEBAgECAgIBAQICAgECAgIBAQECAgICAQEBAgICAgICAQIBAQIBAQECAgECAQIBAQICAQECAQECAgECAQECAgECAgECAQICAgEBAQICAQEBAgECAQEBAgECAgICAgIBAQICAgICAgICAgICAQEBAQIBAQICAQECAgECAgEBAgEBAQECAgIBAgIBAgIBAQEBAQIBAgIBAgIBAQIBAQEBAgICAgEBAQECAgICAQIBAgICAgECAQICAgECAQEBAQIBAgICAgIBAgICAgIBAgICAgICAgEBAgIBAgICAgICAQECAgICAgIBAQECAgIBAgEBAgICAQIBAQICAgIBAQICAQICAgIBAgIBAgECAQECAgICAgEBAgIBAQIBAgICAgECAgICAQICAgICAgEBAgECAgEBAgICAQICAgIBAQICAgICAgEBAgICAgIBAQIBAgIBAQECAgICAQICAQIBAgECAgIBAgICAQICAgICAQIBAgICAgEBAgICAQICAQICAgEBAgIBAgECAgICAQEBAgICAQIBAQECAgEBAQIBAgECAQEBAgICAgICAQIBAgICAQIBAQIBAgICAgICAgECAQIBAgICAgICAgICAgIBAgICAgICAgICAgECAgICAgICAgECAgIBAgEBAQIBAgICAgIBAgEBAgIBAQICAgICAQEBAQEBAQECAQIBAgIBAgECAQIBAgECAgICAgECAgICAgEBAgICAgICAgICAgIBAgECAgECAQICAgICAgICAgIBAQICAgICAQECAgICAgICAQECAQEBAgIBAgEBAgIBAgEBAgECAgEBAgIBAQICAQECAgEBAgIBAQECAgEBAgIBAgICAgIBAgEBAQIBAQIBAgEBAgIBAgICAgEBAQECAgECAgIBAQICAQICAgICAgEBAgIBAQIBAQEBAgECAQIBAQIBAgICAQEBAQICAQICAQICAgEBAgEBAgICAgECAQICAQICAQICAQICAgICAgIBAQICAgEBAQIBAQICAgEBAgECAgICAgECAgIBAQICAQEBAgICAgEBAgECAgICAQEBAgICAQICAQICAgIBAgICAQIBAQEBAgECAgECAQIBAQECAgEBAQECAQECAgIBAQICAgICAgICAgICAgIBAgICAgICAQIBAgIBAgIBAgECAgECAgECAQIBAQIBAgEBAQICAQICAgICAQEBAgIBAgICAQECAQECAgICAQIBAQICAgICAgIBAgECAgEBAQECAgECAQEBAgICAgICAQECAgECAQECAQICAgEBAgICAgEBAQECAgIBAgICAQICAQICAgEBAgICAgECAgECAQECAgECAQEBAgEBAQICAQIBAgIBAgIBAgEBAQIBAgIBAQIBAQIBAgECAQICAQEBAQIBAQEBAgEBAQICAgIBAgEBAQICAgIBAQIBAQIBAQICAgIBAgICAgICAQICAgEBAgICAgICAgICAgEBAgEBAQIBAQECAQICAgICAgEBAQIBAgEBAgECAQECAQIBAQICAgEBAgEBAQICAgICAgIBAgIBAgECAQICAQICAQICAgEBAgIBAgIBAgEBAQEBAQEBAgICAgECAgEBAQECAgECAgICAgIBAQIBAgEBAgICAgIBAgICAgEBAgEBAQECAgIBAQICAgECAgICAQECAgICAgEBAQEBAgEBAQICAgIBAgICAQICAgIBAQECAQIBAgICAgIBAQIBAQICAQICAQICAgICAgICAgICAgEBAQICAQIBAgICAgECAQICAgIBAgICAQECAgICAQICAgICAQICAgICAQIBAgIBAgIBAQICAgEBAgECAQICAgICAgEBAgICAQIBAgICAQEBAgIBAgICAgECAgIBAgECAQECAgIBAQIBAgECAQICAQIBAQICAQECAgECAQEBAQICAgECAgEBAQIBAgICAgEBAgIBAgEBAgECAgIBAgIBAgEBAgECAQIBAgIBAgECAgICAgIBAQIBAgICAQICAQICAgIBAgECAgIBAgICAQICAQIBAQECAgEBAgICAgICAQIBAQICAgICAQICAQICAgEBAgIBAgIBAgICAgECAgICAQICAgIBAQICAQECAgICAQICAQECAgEBAgECAQECAQECAgIBAgICAgICAQICAgIBAgICAQECAgICAQICAgEBAgECAgECAgICAQIBAgECAgICAgECAQICAQICAgICAgICAQICAgICAgICAgECAgIBAQICAQECAQIBAgECAgICAgECAgIBAQICAQECAgICAQECAgIBAgEBAgIBAQECAgIBAgIBAgICAQIBAgECAgICAgICAgIBAgECAgEBAQECAgECAQIBAgECAgICAQEBAQIBAgECAQECAQEBAQICAgICAgECAgIBAgICAgIBAQIBAgICAQIBAQICAgICAQIBAgEBAgEBAQEBAQIBAgICAQECAgECAgECAgEBAgIBAgECAgIBAQICAQEBAQICAgEBAgEBAQICAQIBAgECAgICAgIBAgECAgICAQEBAQICAgICAQIBAQEBAgEBAgECAQICAQECAQIBAgICAQIBAQICAQECAgIBAgIBAQIBAgICAQICAgICAgECAgEBAQECAQEBAgICAgICAgICAgECAgICAgIBAgEBAgICAQICAgICAgIBAQICAgIBAQICAQEBAgIBAgICAQECAgICAQECAQECAgECAgECAgIBAgIBAgICAQICAQIBAQICAQIBAQICAQICAQEBAgECAgICAgECAgICAgECAgECAQIBAQECAQECAQECAQECAgIBAgECAQIBAgICAgEBAQEBAgECAgICAgECAgEBAQIBAQICAgICAQECAQECAgICAQECAgICAQIBAQICAQECAQICAgIBAgIBAgECAQEBAgECAQIBAQECAgICAgIBAQECAgIBAQICAgIBAQEBAgIBAgECAgICAgECAQECAQEBAgECAQECAgIBAQICAgIBAQEBAQECAgIBAQIBAQIBAQECAgICAgICAQIBAgECAQIBAgICAgICAgIBAgICAQICAgIBAQICAgICAgECAgEBAgICAgECAgICAQIBAgICAQIBAgECAgIBAgICAgECAgECAgECAgECAgIBAQECAgICAgIBAQIBAQICAQICAgECAgECAgECAQIBAQECAQIBAQEBAgICAgEBAgEBAgECAQICAQECAQICAgECAQECAgIBAgIBAgICAgECAgIBAgECAgECAQECAgICAgICAgICAgICAgECAgICAgICAgIBAgECAQECAQICAgEBAgEBAgICAQECAQEBAgECAQIBAQICAgEBAgICAgICAgIBAgIBAgICAQEBAQECAQEBAQEBAgECAQICAgEBAgECAgEBAgECAQIBAgECAQEBAQEBAgIBAQECAgIBAgICAgICAQICAgEBAQECAgEBAQEBAgICAgECAgIBAgIBAgEBAQEBAgECAQICAgECAQEBAQIBAgICAgECAgICAgEBAQIBAgICAgEBAgICAQICAgICAgICAgICAQIBAgIBAgICAgECAgICAgIBAQEBAgICAgEBAgEBAQICAgICAQICAgEBAgEBAQICAgICAQECAgICAgEBAgIBAgIBAgECAQECAgECAgECAgICAgECAQECAQIBAgEBAgICAQIBAQEBAQIBAQICAgIBAQEBAQIBAgECAgIBAgECAQIBAgECAgEBAgEBAgEBAQICAgIBAQECAgECAQICAQICAQECAgECAgIBAQECAQIBAgIBAgIBAQECAQEBAgICAgICAgECAQICAgICAgIBAQICAgICAgIBAgECAgECAQICAgECAgICAgICAgICAgIBAgIBAgECAQICAQECAQECAQIBAgECAQICAQIBAQECAgICAgIBAgEBAgICAgIBAgECAQEBAQIBAgIBAgICAgIBAgECAQEBAgEBAQICAQECAQECAgECAQECAgICAgICAgEBAgIBAQECAgEBAQEBAgECAQICAgICAgICAQIBAQECAgIBAgIBAgIBAQICAQEBAgEBAQECAQICAQICAQIBAQEBAQEBAgEBAgECAQIBAgICAgIBAgECAQIBAQIBAgIBAgICAgICAQECAgEBAQIBAgEBAgICAgIBAQECAQIBAgIBAQEBAQECAQICAgICAgEBAgEBAQICAgIBAgEBAQICAgECAQICAgECAgICAgECAgECAQIBAQECAgIBAgIBAgICAQICAQIBAgEBAQICAgIBAgECAgICAgEBAQICAgECAQIBAQIBAgICAQICAQICAQICAgEBAQICAQICAgICAQECAgICAQICAgICAgECAQIBAgEBAQIBAQIBAgEBAQICAQIBAgECAgICAgIBAgEBAgEBAQEBAQICAQIBAgECAgECAgECAgIBAgIBAQECAgIBAQICAQICAQICAQICAQEBAQIBAQECAgECAgIBAQICAgECAgICAgECAgICAgEBAgICAgICAgECAQICAQEBAgICAgECAQICAQEBAQEBAQECAQICAQICAgIBAQECAgEBAgEBAQIBAgIBAQICAQIBAgEBAgECAQIBAgECAgECAQECAQIBAgECAgIBAgECAQEBAgEBAgICAgICAgICAgIBAgICAgICAgIBAgICAgECAgIBAgICAQICAQICAgECAQICAQEBAgEBAgICAQICAgIBAQICAgIBAgECAQECAQICAgICAQECAQECAgIBAgICAgICAQICAgEBAgICAgICAQICAgICAQECAgIBAgIBAgICAgIBAQICAQECAgECAgECAQIBAgIBAgICAgICAQICAQIBAgICAgICAQICAQIBAgIBAQICAgIBAgIBAQIBAgICAQICAgECAgEBAgEBAQICAgIBAgECAgIBAgEBAQICAgIBAgICAgEBAQECAgEBAQICAgICAQICAQICAQICAQIBAgECAgECAgICAgEBAgICAQICAgEBAgICAgICAgEBAgIBAQICAQECAgIBAgIBAQIBAQECAQIBAgIBAQECAQIBAgEBAQICAQEBAQIBAQICAQEBAgICAgECAQICAQECAQICAQICAgICAgICAgIBAgIBAgEBAQIBAgECAQICAQICAgIBAQICAgIBAgICAgECAQICAgEBAgIBAQIBAgIBAQEBAgEBAQICAQICAgICAgICAQICAgICAgICAgICAQECAgEBAQEBAgEBAgEBAQECAQEBAgIBAgICAgICAgIBAQEBAgIBAQEBAQECAgECAgEBAQECAgIBAgICAgICAQICAQICAgICAgIBAgECAgICAgEBAQICAgICAQIBAQEBAQICAgICAgECAQEBAgICAgIBAgICAgICAQECAQEBAgECAQICAQECAQIBAQICAQIBAgICAgECAgECAgECAgICAQIBAQIBAQICAgECAQIBAgIBAgEBAQEBAQECAgIBAQEBAQIBAQICAQIBAgECAQICAQIBAQICAgICAQIBAgIBAQECAQICAQIBAgECAgEBAQICAgECAQEBAgECAgICAgICAQIBAgEBAQICAgIBAgEBAgIBAQICAQECAQIBAQEBAgICAQICAgEBAgICAQIBAgECAQIBAgECAgICAgEBAQICAQIBAQIBAgIBAgEBAgICAgECAgIBAgIBAgICAgICAQIBAgECAgIBAQIBAgEBAgICAQEBAgICAgECAgICAQECAgICAQECAgICAQIBAgIBAQEBAgIBAgICAgECAgICAgICAgECAQEBAQICAgIBAgICAgIBAQECAgICAgICAgICAgIBAQECAQICAgIBAgEBAgICAgECAQICAQICAgIBAgEBAgIBAgEBAQIBAgIBAQECAgIBAQECAgECAgIBAgECAgICAQIBAgICAgEBAQEBAgICAQECAQICAgECAQICAQICAgEBAgIBAQIBAgICAgEBAgIBAQIBAQEBAgICAQIBAgICAQICAgICAgIBAgICAgIBAQIBAQEBAgICAQECAgECAgIBAgECAgECAgIBAgIBAgIBAQECAgICAQEBAgEBAgEBAgEBAgECAQECAgEBAgEBAgECAQICAgEBAQICAQEBAgEBAgECAQECAQEBAgECAgECAgECAQEBAgECAQICAQECAgECAQIBAQICAgECAQIBAgEBAgECAQICAQECAgICAQICAgECAQECAQEBAgICAgECAgEBAgICAgICAgICAQIBAQEBAgEBAgICAQIBAgEBAgECAgIBAQECAQECAQIBAQICAQIBAQEBAgECAgIBAQECAQIBAQICAQECAQICAgEBAQECAgIBAQEBAQECAgECAQICAgECAgICAgIBAgICAgEBAgIBAQEBAgICAQEBAgIBAQECAgEBAgECAgIBAgECAgEBAgEBAgEBAgEBAQEBAgECAQEBAgECAgECAgECAQECAQECAgIBAgICAgICAgIBAgECAgIBAgICAQEBAgICAgECAQECAgECAgECAQICAgECAgECAgECAQICAgECAQECAgECAQECAgICAgICAQEBAQICAgECAgECAgIBAQICAgECAgICAQIBAQECAQICAQICAQIBAQEBAgICAQECAgIBAQIBAQICAgIBAgEBAgICAQEBAgECAgIBAQEBAgEBAgEBAgECAQEBAgECAgICAQICAgICAgECAgICAgECAQICAQIBAQEBAgICAgEBAgIBAgICAgICAgIBAgEBAQIBAgIBAgEBAQIBAgIBAgEBAQIBAgICAgEBAQICAgECAgICAgEBAgECAgEBAQECAgIBAgEBAgECAgICAQEBAgECAgEBAgICAgICAgIBAgICAgECAQECAQEBAQICAgECAQECAgIBAQECAgIBAQIBAgICAQECAQIBAQECAQIBAgICAQEBAgECAQECAgEBAQIBAQICAgICAgICAgEBAQECAgICAgIBAgIBAQECAQICAgECAgICAgIBAgECAQEBAQECAQEBAgICAQEBAQICAgIBAgICAQICAQICAgECAQICAgIBAgECAgICAgEBAgECAQECAQICAgEBAQICAQICAgICAgEBAgICAQICAgECAgECAgECAgEBAgIBAgEBAQEBAgICAQECAQIBAgICAgICAQICAQECAgIBAgIBAQICAgEBAgIBAgICAgECAgIBAQECAgECAQECAQICAgEBAQEBAgICAQIBAgECAgICAQICAgECAgEBAgECAQECAgIBAQIBAgEBAgICAgECAQICAQECAgECAgICAQICAgIBAQICAgIBAgICAgICAgECAgECAgICAgECAgECAgEBAgECAgEBAgIBAgIBAgICAgECAQECAQECAQEBAQECAQIBAgEBAgECAQICAQECAgIBAgIBAQEBAgICAQICAQIBAgICAQICAgECAgEBAQICAgICAgICAgICAgEBAgICAgICAgIBAQIBAgIBAQEBAQECAgICAQICAgEBAQECAgEBAgIBAQECAgICAgICAgEBAQICAQEBAgIBAgIBAQECAQICAgIBAgIBAgECAgIBAQICAQECAgECAQICAgICAQECAQECAQIBAQICAgECAgECAgIBAgICAgIBAgECAQEBAQIBAgICAgECAgIBAQIBAQECAQIBAgECAQIBAgEBAgICAQIBAgECAgEBAQICAgECAQEBAgIBAgECAgEBAQICAgIBAgICAgECAgICAQECAQICAQIBAgECAgIBAgIBAQIBAQICAQICAgECAQICAQIBAgICAQICAQEBAgIBAQEBAQICAgIBAQIBAgICAgEBAQICAgICAgICAgIBAQICAgICAgECAgECAgICAgEBAgICAgECAgICAQEBAQIBAgICAgIBAQICAgICAgICAgECAQIBAgECAgIBAgIBAQEBAgICAQEBAgECAQIBAgICAQECAgICAQIBAQECAgICAQIBAQICAQICAgICAgECAgECAgECAgIBAgECAgECAQICAgECAQICAgIBAQICAgECAgECAQIBAQECAQECAgIBAgICAgIBAQICAQICAgECAgECAQIBAQIBAgEBAgIBAQIBAgIBAgECAQEBAgICAQICAQIBAgEBAgICAQEBAQICAQECAQIBAgIBAgICAgECAgECAgEBAgIBAQICAgIBAQEBAQEBAgICAgECAgIBAgECAgEBAgIBAgIBAgIBAgIBAgEBAQICAgICAQEBAgICAgICAgICAgEBAgEBAgIBAQICAgEBAgIBAgECAgEBAgICAgIBAgIBAQICAgICAQIBAQICAgECAQICAQICAQECAQECAQEBAgICAgICAgICAQEBAgIBAgECAgICAQIBAgICAQICAQECAgICAgEBAQECAgIBAQEBAQICAQICAQEBAQICAgECAQECAgECAQICAQECAQEBAQIBAgECAgEBAQICAQICAQIBAgECAgECAgECAQICAQICAQECAgICAQEBAQIBAQECAQIBAQIBAgECAgICAgEBAQIBAgECAQEBAgIBAQEBAgIBAgICAgIBAQICAgICAQICAgIBAQIBAgIBAgICAgEBAQEBAgIBAgECAgICAgICAgICAQECAgEBAgICAgECAgICAgIBAgEBAQEBAQICAgEBAQICAQECAgECAgIBAQECAgICAQICAQEBAQICAQIBAQICAQIBAgIBAQICAgICAgICAQECAQIBAgICAgECAQIBAQECAQICAgIBAgIBAgICAgIBAgICAQICAQEBAQEBAgIBAQECAgIBAQEBAgEBAQIBAgECAQICAgICAQICAQECAQEBAgEBAQIBAgIBAgEBAgICAgIBAgIBAQEBAgIBAgIBAQEBAgICAQICAQICAQEBAgEBAgEBAQICAgIBAgECAQIBAgICAgICAgECAgICAQICAgIBAgEBAQICAgICAgECAgECAgICAgICAQECAgICAQECAgICAQICAgECAgICAQIBAQEBAgIBAQECAgEBAQICAgICAgICAgICAQIBAgICAgICAQICAgICAgICAgEBAgECAQECAgIBAQICAgEBAQIBAQIBAgICAgECAQECAgICAQICAQIBAQICAgIBAgECAgECAQICAgIBAQECAQEBAQICAQICAQECAQEBAgIBAgECAQEBAQEBAQICAQEBAQICAQEBAgECAgECAgICAQIBAgECAgECAgECAQIBAgIBAQEBAgEBAgECAgECAQIBAgEBAQICAgIBAgECAgIBAQEBAQICAgICAgEBAQICAQECAgECAQIBAQEBAQECAgIBAgICAQICAQEBAgIBAQIBAQEBAgICAgICAgICAgECAQECAgICAQICAQICAgECAQIBAQIBAgICAgIBAQICAgICAQEBAQECAgICAgIBAgECAgEBAQIBAgECAQICAQICAgICAQIBAQEBAQEBAgIBAgICAQIBAgEBAQIBAgICAgECAQEBAgIBAgEBAQICAgECAQICAgICAgEBAgIBAQECAgIBAQICAgIBAQECAQECAQECAQICAQECAQECAQECAQECAgEBAgICAgEBAQIBAgICAQEBAQECAQICAgEBAQICAgIBAgECAgEBAQECAgECAgICAgICAgIBAgIBAQEBAQECAgICAQICAgECAQIBAQECAQEBAQICAgICAQECAgICAgIBAgICAgIBAgICAgEBAgICAQICAQICAQECAgICAgICAgECAQIBAgICAQICAgECAgECAgEBAgIBAgECAQICAQIBAgEBAQICAgEBAgEBAQIBAQIBAgIBAQIBAQICAQIBAgICAgECAQICAgICAgEBAQICAgICAgICAQIBAgIBAgICAgECAQICAQECAgICAgICAgECAQECAgIBAgIBAQEBAQICAQICAgICAQICAgICAgICAQIBAQIBAQICAQIBAgICAgIBAQEBAgEBAgICAQIBAQICAQIBAQIBAgICAQECAQICAQECAQICAgEBAgEBAQICAgIBAQIBAgEBAQICAgICAgEBAQEBAQEBAQEBAQEBAQEBAQEBAQEBAQEBAQEBAQEBAQEBAQEBAQEBAQEBAQEBAQEBAQEBAQEBAQEBAQEBAQEBAQEBAQEBAQEBAQEBAQEBAQEBAQEBAQEBAQEBAQEBAQEBAQEBAQEBAQEBAQICAgICAgICAgICAgICAgICAgICAgICAgICAgICAgICAgICAgICAgICAgICAgICAgICAgICAgICAgICAgICAgICAgICAgICAgICAgICAgICAgICAgICAgICAgICAgICAgICAgICAgICAgICAgICAgICAgICAgICAgICAgICAgICAgICAgICAgICAgICAgICAgICAgICAgICAgICAgICAgICAgICAgICAgICAgICAgICAgICAgICAgICAgICAgICAgICAgICAgICAgICAgICAgICAgICAgICAgICAgICAgICAgICAgICAgICAQIBAQEBAQEBAQEBAQEBAQEBAQEBAQEBAQEBAQEBAQEBAQEBAQEBAQEBAQEBAQEBAQEBAQEBAQEBAQEBAQEBAQEBAQEBAQEBAQEBAQEBAQEBAQEBAQEBAQEBAQEBAQEBAQEBAQEBAQEBAQEBAQEBAQEBAQEBAQEBAQEBAQEBAQIBAgICAgICAgICAgICAgICAgICAgICAgICAgICAgICAgICAgICAgICAgICAgICAgICAgICAgICAgIBAQEBAQEBAQEBAQEBAQEBAQEBAQEBAQEBAQEBAQEBAQEBAQEBAQEBAQEBAQEBAQEBAgICAQECAgICAgICAgICAgICAgICAgICAgICAgICAgICAgICAgICAgICAgICAgICAgICAgICAgICAgICAgICAgICAgICAgICAgICAgICAgICAgICAgICAgICAgICAgICAgICAgICAgICAgICAgICAgICAgICAgICAgICAgICAgICAgICAgICAgICAgICAgICAgICAgICAgICAgICAgICAgICAgICAgICAgICAgICAgICAgICAgICAgICAgICAgICAgICAgICAgICAgICAgICAgICAgICAgICAgICAgICAgICAgICAgICAgICAgICAgICAgICAgICAgICAgICAgICAgICAgICAgICAgICAgICAgICAgICAgICAgICAgICAgICAgICAgICAgICAgICAgICAgICAgICAgICAgICAgICAgICAgICAgICAgICAgICAgICAgICAgICAgICAgICAgICAgICAgICAgICAgICAgICAgICAgICAgICAgICAgICAgICAgICAgICAgICAgICAgICAgICAgICAgICAgICAgICAgICAgICAgICAgICAgICAgICAgICAgICAgICAgICAgICAgICAgICAgICAgICAgICAgICAgICAgICAgICAgICAgICAgICAgICAgICAgICAgICAgICAgICAgICAgICAgICAgICAgICAgICAgICAgICAgICAgICAgICAgICAgICAgICAgICAgICAQEBAQIBAQEBAQEBAQEBAQEBAQEBAQEBAQEBAQEBAQEBAQEBAQEBAQEBAQEBAQEBAQEBAQEBAQEBAQEBAQEBAQEBAQEBAQEBAQEBAQEBAQEBAQEBAQEBAQEBAQEBAQEBAQEBAQEBAQEBAQEBAQEBAQEBAQEBAQEBAQEBAQEBAQEBAQEBAQEBAQEBAQEBAQEBAQEBAQEBAQEBAQEBAQEBAQEBAQEBAQEBAQEBAQEBAQEBAQEBAQEBAQEBAQEBAQEBAQEBAQEBAQEBAQEBAQEBAQEBAQEBAQEBAQEBAQEBAQEBAQEBAQEBAQEBAQEBAQEBAQEBAQEBAQEBAQEBAQEBAQEBAQEBAQEBAQEBAQEBAQEBAQEBAQEBAQEBAQEBAQEBAQEBAQEBAQEBAQEBAQEBAQEBAQEBAQEBAQEBAQEBAQEBAQEBAQEBAQEBAQEBAQEBAQEBAQICAgICAgICAgICAgICAgICAgICAgICAgICAgICAgICAgICAgICAgICAgICAgICAgICAgICAgICAgICAgICAgICAgICAgICAgICAgICAgICAgICAgICAgICAgICAgICAgICAgICAgICAgICAgICAgICAgICAgICAgICAgICAgICAgICAgICAgICAgICAgICAgICAgICAgICAgICAgICAgICAQICAgICAgICAgICAgICAgICAgICAgICAgICAgICAgICAgICAgICAgICAgICAgICAgICAgICAgICAgICAgICAgICAgICAgICAgICAgICAgICAgICAgICAgICAgICAgICAgICAgICAgICAgICAgICAgICAgICAgICAgICAgICAgICAgICAgICAgICAgICAgICAgICAgICAgICAgICAgICAgICAgICAgICAgICAgICAgICAgICAgICAgICAgICAgICAgICAgICAgICAgICAgICAgICAgICAgICAgICAgICAgICAgICAgICAgICAgICAgICAgICAgICAgICAgICAgICAgICAgICAgICAgICAgICAgICAgICAgICAgICAgICAgICAgICAgICAgICAgICAgICAgICAgICAgICAgICAgICAgICAgICAgICAgICAgICAgICAgICAgICAgICAgICAgICAgICAgICAgICAgICAgICAgICAgICAgICAgICAgICAgICAgICAgICAgICAgICAgICAgICAgICAgICAgICAgICAgICAgICAgICAgICAgICAgICAgICAgICAgICAQEBAQEBAQICAgEBAQEBAQEBAQEBAQEBAQEBAQEBAQEBAQEBAQEBAQEBAQEBAQEBAQEBAQEBAQEBAQEBAQEBAQEBAQEBAQEBAQEBAQEBAQEBAQEBAQEBAQEBAQEBAQEBAQEBAQEBAQEBAQEBAQEBAQEBAQEBAQEBAQEBAQEBAQEBAQEBAQEBAQEBAQEBAQEBAQEBAQEBAQEBAQEBAQEBAQEBAQEBAQEBAQEBAQEBAQEBAQEBAQEBAQEBAQEBAQEBAQEBAQEBAQEBAQEBAQEBAQEBAQEBAQEBAQEBAQEBAQEBAQEBAQEBAQEBAQEBAQEBAQEBAQEBAQEBAQEBAQEBAQEBAQEBAQEBAQEBAQEBAQEBAQEBAQEBAQEBAQEBAQEBAQEBAQEBAQEBAQEBAQEBAQEBAQEBAQEBAQEBAQEBAQEBAQEBAQEBAQEBAQEBAQEBAQEBAQEBAQEBAQEBAQEBAQEBAQEBAQEBAQEBAQEBAQEBAQEBAQECAQECAgICAgICAgICAgICAgICAgICAgICAgICAgICAgICAgICAgICAgICAgICAgICAgICAgICAgICAgICAgICAgICAgICAgICAgICAgICAgICAgICAgICAgICAgICAgICAgICAgICAgICAgICAgICAgICAgICAgICAgICAgICAgICAgICAgICAgICAgICAgICAgICAgICAgICAgICAgICAgICAgICAgICAgICAgICAgICAgICAgICAgICAgICAgICAgICAgICAgICAgICAgICAgICAgICAgICAgICAgICAgICAgICAgICAgICAgICAgICAgICAgICAgICAgICAgICAgICAgICAgICAgICAgICAgICAgICAgICAgICAgICAgICAgICAgICAgICAgICAgICAgICAgICAgICAgICAgICAgICAgICAgICAgICAgICAgICAgICAgICAgICAgICAgICAgICAgICAgICAgICAgICAgICAgICAgICAgICAgICAgICAgICAgICAgICAgICAgICAgICAgICAgICAgICAgICAgICAgICAgICAgICAgICAgICAgICAgICAgICAgICAgICAgICAgICAgICAgICAgICAgICAgICAgICAgICAgICAgICAgICAgICAgICAgICAgICAgICAgICAgICAgICAgICAgICAgICAgICAgICAgICAgICAgICAgICAgICAgICAgICAgICAgICAgICAgICAgICAgICAgICAgICAgICAgICAgICAgICAgICAgICAgICAgICAgICAgICAgICAgICAgICAgICAgICAgICAgICAgICAgICAgICAgICAgICAgICAgICAgICAgICAgICAgICAgICAgICAgICAgICAgICAgICAgICAgICAgICAgICAgICAgICAgICAgICAgICAgICAgICAgICAgICAgICAgICAgICAgICAgICAgICAgICAgICAgICAgICAgICAgICAgICAgICAgICAgICAgICAgICAgICAgICAgICAgICAgICAgICAgICAgICAgICAgICAgICAgICAgICAgICAgICAgICAgICAgICAgICAgICAgICAgICAgICAgICAgICAgICAgICAgICAgICAgICAgICAgICAgICAgICAgICAgICAgICAgICAgICAgICAgICAgICAgICAgICAgICAgICAgICAgICAgICAgICAgICAgICAgICAgICAgICAgICAgICAgICAgICAgICAgICAgICAgICAgICAgICAgICAgICAgICAgICAgICAgICAgICAgICAgICAgICAgICAgICAgICAgICAgICAgICAgICAgICAgICAgICAgICAgICAgICAgICAgICAgICAgICAgICAgICAgICAgICAgICAgIBAgICAgICAgICAgICAgICAgICAgICAgICAgICAgICAgICAgICAgICAgICAgICAgICAgICAgICAgICAgICAgICAgICAgICAgICAgICAgICAgICAgICAgICAgICAgICAgICAgICAgICAgICAgICAgICAgICAgICAgICAgICAgICAgICAgICAgICAgICAgICAgICAgICAgICAgICAgICAgICAgICAgICAgICAgICAgICAgICAgICAgICAgICAgICAgICAgICAgICAgICAgICAgICAgICAgICAgICAgICAgICAgICAgICAgICAgICAgICAgICAgICAgICAgICAgICAgICAgICAgICAgICAgICAgICAgICAgICAgICAgICAgICAgICAgICAgICAgICAgICAgICAgICAgICAgICAgICAgICAgICAgICAgICAgICAgICAgICAgICAgICAgICAgICAgICAgICAgICAgICAgICAgICAgICAgICAgICAgICAgICAgICAgICAgICAgICAgICAgICAgICAgICAgICAgICAgICAgICAgICAgICAgICAgICAgICAgICAgICAgICAgICAgICAgICAgICAgICAgICAgICAgICAgICAgICAgICAgICAgICAgICAgICAgICAgICAgICAgICAgICAgICAgICAgICAgICAgICAgICAgICAgICAgICAgICAgICAgICAgICAgICAgICAgICAgICAgICAgICAgICAgICAgICAgICAgICAgICAgICAgICAgICAgICAgICAgICAgICAgIBAQEBAQEBAQEBAQEBAQEBAQEBAQEBAQEBAQEBAQEBAQEBAQEBAQEBAQEBAQEBAQEBAQEBAQEBAQEBAQEBAQEBAQEBAQEBAQEBAQEBAQEBAQEBAQEBAQEBAQEBAQEBAQEBAQEBAQEBAQEBAQEBAQEBAQEBAQEBAQEBAQEBAQEBAQEBAQEBAQEBAQEBAQEBAQEBAQEBAQEBAQEBAQEBAQEBAQEBAQEBAQEBAQEBAQEBAQEBAQEBAQEBAQEBAQEBAQEBAQEBAQEBAQEBAQEBAQEBAQEBAQEBAQEBAQEBAQEBAQEBAQEBAQEBAQEBAQEBAQEBAQEBAQEBAQEBAQEBAQEBAQEBAQEBAQEBAQEBAQEBAQEBAQEBAQEBAQEBAQEBAQEBAQEBAQEBAQEBAQEBAQEBAQEBAQEBAQEBAQEBAQEBAQEBAQEBAQEBAQEBAQEBAQEBAQEBAQEBAQEBAQEBAQEBAQEBAQEBAQEBAQEBAQEBAQEBAQEBAQEBAQEBAQEBAQEBAQEBAQEBAQEBAQEBAQEBAQEBAQEBAQEBAQEBAQEBAQEBAQEBAQEBAQEBAQEBAQEBAQEBAQEBAQEBAQEBAQEBAQEBAQEBAQEBAQEBAQEBAQEBAQEBAQEBAQEBAQEBAQEBAQEBAQEBAQEBAQEBAQEBAQEBAQEBAQEBAQEBAQEBAQEBAQEBAQEBAQEBAQEBAQEBAQEBAQEBAQEBAQEBAQEBAQEBAQEBAQEBAQEBAQEBAQEBAQEBAQEBAQEBAQEBAQEBAQEBAQEBAQEBAQEBAQEBAQEBAQEBAQEBAQEBAQEBAQEBAQEBAQEBAQEBAQEBAQEBAQEBAQEBAQEBAQEBAQEBAQEBAQEBAQEBAQEBAQEBAQEBAQEBAQEBAQEBAQEBAQEBAQEBAQEBAQEBAQEBAQEBAQEBAQEBAQEBAQEBAQEBAQEBAQEBAQEBAQEBAQEBAQEBAQEBAQEBAQEBAQEBAQEBAQEBAQEBAQEBAQEBAQEBAQEBAQEBAQEBAQEBAQEBAQEBAQEBAQEBAQEBAQEBAQEBAQICAgICAgICAgICAgICAgICAgICAgICAgICAgICAgICAgICAgICAgICAgICAgICAgICAgICAgICAgICAgICAgICAgICAgICAgICAgICAgICAgICAgICAgICAgICAgICAgICAgICAgICAgICAgICAgICAgICAgICAgICAgICAgICAgICAgICAgICAgICAgICAgICAgICAgICAgICAgICAgICAgICAgICAgICAgICAgICAgICAgICAgICAgICAgICAgICAgICAgICAgICAgICAgICAgICAgICAgICAgICAgICAgICAgICAgICAgICAgICAgICAgICAgICAgICAgICAgICAgICAgICAgICAgICAgICAgICAgICAgICAgICAgICAgICAgICAgICAgICAgICAgICAgICAgICAgICAgICAgICAgICAgICAgICAgICAgICAgICAgICAgICAgICAgICAgICAgICAgICAgICAgICAgICAgICAgICAgICAgICAgICAgICAgICAgICAgICAgICAgICAgICAgICAgICAgICAgICAgICAgICAgICAgICAgICAgICAgICAgICAgICAgICAgICAgICAgICAgICAgICAgICAgICAgICAgICAgICAgICAgICAgICAgICAgICAgICAgICAgICAgICAgICAgICAgICAgICAgICAgICAgICAgICAgICAgICAgICAgICAgICAgICAgICAgICAgICAgICAgICAgICAgICAgICAgICAgICAgICAgICAgICAgICAgICAgICAgICAgICAgICAgICAgICAgICAgICAgICAgICAgICAgICAgICAgICAgICAgICAgICAgICAgICAgICAgICAgICAgICAgICAgICAgICAgICAgICAgICAgICAgICAgICAgICAgICAgICAgICAgICAgICAgICAgICAgICAgICAgICAgICAgICAgICAgICAgICAgICAgICAgICAgICAgICAgICAgICAgICAgICAgICAgICAgICAgICAgICAgICAgICAgICAgICAgICAgICAgICAgICAgICAgICAgICAgICAgICAgICAgICAgICAgICAgICAgICAgICAgICAgICAgICAgICAgICAgICAgICAgICAgICAgICAgICAgICAgICAgICAgICAgICAgICAgICAgICAgICAgICAgICAgICAgICAgICAgICAgICAgICAgICAgICAgICAgICAgICAgICAgICAgICAgICAgICAQEBAQICAgICAgICAgICAgICAgICAgICAgICAgICAgICAgICAgICAgICAgICAgICAgICAgICAgICAgICAgICAgICAgICAgICAgICAgICAgICAgICAgICAgICAgICAgICAgICAgICAgICAgICAgICAgICAgICAgICAgICAgICAgICAgICAgICAgICAgICAgICAgICAgICAgICAgICAgICAgICAgICAgICAgICAgICAgICAgICAgICAgICAgICAgICAgICAgICAgICAgICAgICAgICAgICAgICAgICAgICAgICAgICAgICAgICAgICAgICAgICAgICAgICAgICAgICAgICAgICAgICAgICAgICAgICAgICAgICAgICAgICAgICAgICAgICAgICAgICAgICAgICAgICAgICAgICAgICAgICAgICAgICAgICAgICAgICAgICAgICAgICAgICAgICAgICAgICAgICAgICAgICAgICAgICAgICAgICAgICAgICAgICAgICAgICAgICAgICAgICAgICAgICAgICAgICAgICAgICAgICAgICAgICAgICAgICAgICAgICAgICAgICAgICAgICAgICAgICAgICAgICAgICAgICAgICAgICAgICAgICAgICAgICAgICAgICAgICAgICAgICAgICAgICAgICAgICAgICAgICAgICAgICAgICAgICAgICAgICAgICAgICAgICAgICAgICAgICAgICAgICAgICAgICAgICAgICAgICAgICAgICAgICAgICAgICAgICAgICAgICAgICAgICAgICAgICAgICAgICAgICAgICAgICAgICAgICAgICAgICAgICAgICAgICAgICAgICAgICAgICAgICAgICAgICAgICAgICAgICAgICAgICAgICAgICAgICAgICAgICAgICAgICAgICAgICAgICAgICAgICAgICAgICAgICAgICAgICAgICAgICAgICAgICAgICAgICAgICAgICAgICAgICAgICAgICAgICAgICAgICAgICAgICAgICAgICAgICAgICAgICAgICAgICAgICAgICAgICAgICAgICAgICAgICAgICAgICAgICAgICAgICAgICAgICAgICAgICAgICAgICAgICAgICAgICAgICAgICAgICAgICAgICAgICAgICAgICAgICAgICAgICAgICAgICAgICAgICAgICAgICAgICAgICAgICAgICAgICAgICAgICAgICAgICAgICAgICAgICAgICAgICAgICAgICAgICAgICAgICAgICAgICAgICAgICAgICAgICAgICAgICAgICAgICAgICAgICAgICAgICAgICAgICAgICAgICAgICAgICAgICAgICAgICAgEBAQEBAQEBAQEBAQEBAQEBAQEBAQEBAQEBAQEBAQEBAQEBAQEBAQEBAQEBAQEBAQEBAQEBAQEBAQEBAQEBAQEBAQEBAQEBAQEBAQEBAQEBAQEBAQEBAQEBAQEBAQEBAQEBAQEBAQEBAQEBAQEBAQEBAQEBAQEBAQEBAQEBAQEBAQEBAQEBAQEBAQEBAQEBAQEBAQEBAQEBAQEBAQEBAQEBAQEBAQEBAQEBAQEBAQEBAQEBAQEBAQEBAQEBAQEBAQEBAQEBAQEBAQEBAQEBAQEBAQEBAQEBAQEBAQEBAQEBAQEBAQEBAQEBAQEBAQEBAQEBAQEBAQEBAQEBAQEBAQEBAQEBAQEBAQEBAQEBAQEBAQEBAQEBAQEBAQEBAQEBAQEBAQEBAQEBAQEBAQEBAQEBAQEBAQEBAQEBAQEBAQEBAQEBAQEBAQEBAQEBAQEBAQEBAQEBAQEBAQEBAQEBAQEBAQEBAQEBAQEBAQEBAQEBAQEBAQEBAQEBAQEBAQEBAQEBAQEBAQEBAQEBAQEBAQEBAQEBAQEBAQEBAQEBAQECAQEBAQEBAQEBAQEBAQEBAQEBAQEBAQEBAQEBAQEBAQEBAQEBAQEBAQEBAQEBAQEBAQEBAQEBAQEBAQEBAQEBAQEBAQEBAQEBAQEBAQEBAQEBAQEBAQEBAQEBAQEBAQEBAQEBAQEBAQEBAQEBAQEBAQEBAQEBAQEBAQEBAQEBAQEBAQEBAQEBAQEBAQEBAQEBAQEBAQEBAQEBAQEBAQEBAQEBAQEBAQEBAQEBAQEBAQEBAQEBAQEBAQEBAQEBAQEBAQEBAQEBAQEBAQEBAQEBAQEBAQEBAQEBAQEBAQEBAQEBAQEBAQEBAQEBAQEBAgIBAQEBAQEBAQEBAQEBAQEBAQEBAQEBAQEBAQEBAQEBAQEBAQEBAQEBAQEBAQEBAQEBAQEBAQEBAQEBAQEBAQEBAQEBAQEBAQEBAQEBAQEBAQEBAQEBAQEBAQEBAQEBAQEBAQEBAQEBAQEBAQEBAQEBAQEBAQEBAQEBAQEBAQEBAQEBAQEBAQEBAQEBAQEBAQEBAQEBAQEBAQEBAQEBAQEBAQEBAQEBAQEBAQEBAQEBAQEBAQEBAQEBAQEBAQEBAQEBAQEBAQEBAQEBAQEBAQEBAQEBAQEBAQEBAQEBAQEBAQEBAQEBAQEBAQEBAQEBAQEBAQEBAQEBAQEBAQEBAQEBAQEBAQEBAQEBAQEBAQEBAQEBAQEBAQEBAQEBAQEBAQEBAQEBAQEBAQEBAQEBAQEBAQEBAQEBAQEBAQEBAQEBAQEBAQEBAQEBAQEBAQEBAQEBAQEBAQEBAQEBAQEBAQEBAQEBAQEBAQEBAQEBAQEBAQECAgICAgICAgICAgICAgICAgICAgICAgICAgICAgICAgICAgICAgICAgICAgICAgICAgICAgICAgICAgICAgICAgICAgICAgICAgICAgICAgICAgICAgICAgICAgICAgICAgICAgICAgICAgICAgICAgICAgICAgICAgICAgICAgICAgICAgICAgICAgICAgICAgICAgICAgICAgICAgICAgICAgICAgICAgICAgICAgICAgICAgICAgICAgICAgICAgICAgICAgICAgICAgICAgICAgICAgICAgICAgICAgICAgICAgICAgICAgICAgICAgICAgICAgICAgICAgICAgICAgICAgICAgICAgICAgICAgICAgICAgICAgICAgICAgICAgICAgICAgICAgICAgICAgICAgICAgICAgICAgICAgICAgICAgICAgICAgICAgICAgICAgICAgIBAgICAgICAgICAgICAgICAgICAgICAgICAgICAgICAgICAgICAgICAgICAgICAgICAgICAgICAgICAgICAgICAgICAgICAgICAgICAgICAgICAgICAgICAgICAgICAgICAgICAgICAgICAgICAgICAgICAgICAgICAgICAgICAgICAgICAgICAgICAgICAgICAgICAgICAgICAgICAgICAgICAgICAgICAgICAgICAgICAgICAgICAgICAgICAgICAgICAgICAgICAgICAgICAgICAgICAgICAgICAgICAgICAgICAgICAgICAgICAgICAgICAgICAgICAgICAgICAgICAgICAgICAgICAgICAgICAgICAgICAgICAgICAgICAgICAgICAgICAgICAgICAgICAgICAgICAgICAgICAgICAgICAgICAgICAgICAgICAgICAgICAgICAgICAgICAgICAgICAgICAgICAgICAgICAgICAgICAgICAgICAgICAgICAgICAgICAgICAgICAgICAgICAgICAgICAgICAgICAgICAgICAgICAgICAgICAgICAgICAgICAgICAgICAgICAgICAgICAgICAgICAgICAgICAgICAgICAgICAgICAgICAgICAgICAgICAgICAgICAgICAgICAgICAgICAgICAgICAgICAgICAgICAgICAgICAgICAgICAgICAgICAgICAgICAgICAgICAgICAgICAgICAgICAgICAgICAgICAgICAgICAgICAgICAgICAgICAgICAgICAgICAgICAgICAgICAgICAgICAgICAgICAgICAgICAgICAgICAgICAgICAgICAgICAgICAgICAgICAgICAgICAgICAgICAgICAgICAgICAgICAgICAgICAgICAgICAgICAgICAgICAgICAgICAgICAgICAgICAgICAgICAgICAgICAgICAgICAgICAgICAgICAgICAgICAgICAgICAgICAgICAgICAgICAgICAgICAgICAgICAgICAgICAgICAgICAgICAgICAgICAgICAgICAgICAgICAgICAgICAgICAgECAQEBAQEBAQEBAQEBAQEBAQEBAQEBAQEBAQEBAQEBAQEBAQEBAQEBAQEBAQEBAQEBAQEBAQEBAQEBAQEBAQEBAQEBAQEBAQEBAQEBAQEBAQEBAQEBAQEBAQEBAQEBAQEBAQEBAQEBAQEBAQEBAQEBAQEBAQEBAQEBAQEBAQEBAQEBAQEBAQEBAQEBAQEBAQEBAQEBAQEBAQEBAQEBAQEBAQEBAQEBAQEBAQEBAQEBAQEBAQEBAQEBAQEBAQEBAQEBAQEBAQEBAQEBAQEBAQEBAQEBAQEBAQEBAQEBAQEBAQEBAQEBAQEBAQEBAQEBAQEBAQEBAQEBAQEBAQEBAQEBAQEBAQEBAQEBAQEBAQEBAQEBAQEBAQEBAQEBAQEBAQEBAQEBAQEBAQEBAQEBAQEBAQEBAQEBAQEBAQEBAQEBAQEBAQEBAQEBAQEBAQEBAQEBAQEBAQEBAQEBAQEBAQEBAQEBAQEBAQEBAQEBAQEBAQEBAQEBAQEBAQEBAQEBAQEBAQEBAQEBAQEBAQEBAQEBAQEBAQEBAQEBAQEBAQEBAQEBAQEBAQEBAQEBAQEBAQEBAQEBAQEBAQEBAQEBAQEBAQEBAQEBAQEBAQEBAQEBAQEBAQEBAQEBAQEBAQEBAQEBAQEBAQEBAQEBAQEBAQEBAQEBAQEBAQEBAQEBAQEBAQEBAQEBAQEBAQEBAQEBAQEBAQEBAQEBAQEBAQEBAQEBAQEBAQEBAQEBAQEBAQEBAQEBAQEBAQEBAQEBAQEBAQEBAQEBAQEBAQEBAQEBAQEBAQEBAQEBAQEBAQEBAQEBAQEBAQEBAQEBAQEBAQEBAQEBAQEBAQEBAQEBAQEBAQEBAQEBAQEBAQEBAQEBAQEBAQEBAQEBAQEBAQEBAQEBAQEBAQEBAQEBAQEBAQEBAQEBAQEBAQEBAQEBAQEBAQEBAQEBAQEBAQEBAQEBAQEBAQEBAQEBAQEBAQEBAQEBAQEBAQEBAQEBAQEBAQEBAQEBAQEBAQEBAgICAgICAgICAgICAgICAgICAgICAgICAgICAgICAgICAgICAgICAgICAgICAgICAgICAgICAgICAgICAgICAgICAgICAgICAgICAgICAgICAgICAgICAgICAgICAgICAgICAgICAgICAgICAgICAgICAgICAgICAgICAgICAgICAgICAgICAgICAgICAgICAgICAgICAgICAgICAgICAgICAgICAgICAgICAgICAgICAgICAgICAgICAgICAgICAgICAgICAgICAgICAgICAgICAgICAgICAgICAgICAgICAgICAgICAgICAgICAgICAgICAgICAgICAgICAgICAgICAgICAgICAgICAgICAgICAgICAgICAgICAgICAgICAgICAgICAgICAgICAgICAgICAgICAgICAgICAgICAgICAgICAgICAgICAgICAgICAgICAgICAgICAgICAgICAgICAgICAgICAgICAgICAgICAgICAgICAgICAgICAgICAgICAgICAgICAgICAgICAgICAgICAgICAgICAgICAgICAgICAgICAgICAgICAgICAgICAgICAgICAgICAgICAgICAgICAgICAgICAgICAgICAgICAgICAgICAgICAgICAgICAgICAgICAgICAgICAgICAgICAgICAgICAgICAgICAgICAgICAgICAgICAgICAgICAgICAgICAgICAgICAgICAgICAgICAgICAgICAgICAgICAgICAgICAgICAgICAgICAgICAgICAgICAgICAgICAgICAgICAgICAgICAgICAgICAgICAgICAgICAgICAgICAgICAgICAgICAgICAgICAgICAgICAgICAgICAgICAgICAgICAgICAgICAgICAgICAgICAgICAgICAgICAgICAgICAgICAgICAgICAgICAgICAgICAgICAgICAgICAgICAgICAgICAgICAgICAgICAgICAgICAgICAgICAgICAgICAgICAgICAgICAgICAgICAgICAgICAgICAgICAgICAgICAgICAgICAgICAgICAgICAgICAgICAgICAgICAgICAgICAgICAgICAgICAgICAgICAgICAgICAgICAgICAgICAgICAgICAgICAgICAgICAgICAgICAgICAgICAgICAgICAgICAgICAgICAgICAgICAgICAgICAgICAgICAgICAgICAgICAgICAgICAgICAgICAgICAgICAgICAgICAgICAgICAgICAgICAgICAgECAgICAgICAgICAgICAgICAgICAgICAgICAgICAgICAgICAgICAgICAgICAgICAgICAgICAgICAgICAgICAgICAgICAgICAgICAgICAgICAgICAgICAgICAgICAgICAgICAgICAgICAgICAgICAgICAgICAgICAgICAgICAgICAgICAgICAgICAgICAgICAgICAgICAgICAgICAgICAgICAgICAgICAgICAgICAgICAgICAgICAgICAgICAgICAgICAgICAgICAgICAgICAgICAgICAgICAgICAgICAgICAgICAgICAgICAgICAgICAgICAgICAgICAgICAgICAgICAgICAgICAgICAgICAgICAgICAgICAgICAgICAgICAgICAgICAgICAgICAgICAgICAgICAgICAgICAgICAQIBAQEBAQEBAQEBAQEBAQEBAQEBAQEBAQEBAQEBAQEBAQEBAQEBAQEBAQEBAQEBAQEBAQEBAQEBAQEBAQEBAQEBAQEBAQEBAQIBAQEBAQEBAQEBAQEBAQEBAQEBAQEBAQEBAQEBAQEBAQEBAQEBAQEBAQEBAQEBAQEBAQEBAQEBAQEBAQEBAQEBAQEBAQEBAQEBAQEBAQEBAQEBAQEBAQEBAQEBAQEBAQEBAQEBAQEBAQEBAQEBAQEBAQEBAQEBAQEBAQEBAQEBAQEBAQEBAQEBAQEBAQEBAQEBAQEBAQEBAQEBAQEBAQEBAQEBAQEBAQEBAQEBAQEBAQEBAQEBAQEBAQEBAQEBAQEBAQEBAQEBAQEBAQEBAQEBAQEBAQEBAQEBAQEBAQEBAQEBAQEBAQEBAQEBAQEBAQEBAQEBAQEBAQEBAQEBAQEBAQEBAQEBAQEBAQEBAQEBAQEBAQEBAQEBAQEBAQEBAQEBAQEBAQEBAQEBAQEBAQEBAQEBAQEBAQEBAQEBAQEBAQEBAQEBAQEBAQEBAQEBAQEBAQEBAQEBAQEBAQEBAQEBAQEBAQEBAQEBAQEBAQEBAQEBAQEBAQEBAQEBAQEBAQEBAQEBAQEBAQEBAQEBAQEBAQEBAQEBAQEBAQEBAQEBAQEBAQEBAQEBAQEBAQEBAQEBAQEBAQEBAQEBAQEBAQEBAQEBAQEBAQEBAQEBAQEBAQEBAQEBAQEBAQEBAQEBAQEBAQEBAQEBAQEBAQEBAQEBAQEBAQEBAQEBAQEBAQEBAQEBAQEBAQEBAQEBAQEBAQEBAQEBAQEBAQEBAQEBAQEBAQEB",
          "dtype": "i1"
         },
         "xaxis": "x",
         "yaxis": "y"
        }
       ],
       "layout": {
        "barmode": "group",
        "legend": {
         "title": {
          "text": "Default (0=No, 1=Yes)"
         },
         "tracegroupgap": 0
        },
        "template": {
         "data": {
          "bar": [
           {
            "error_x": {
             "color": "#2a3f5f"
            },
            "error_y": {
             "color": "#2a3f5f"
            },
            "marker": {
             "line": {
              "color": "#E5ECF6",
              "width": 0.5
             },
             "pattern": {
              "fillmode": "overlay",
              "size": 10,
              "solidity": 0.2
             }
            },
            "type": "bar"
           }
          ],
          "barpolar": [
           {
            "marker": {
             "line": {
              "color": "#E5ECF6",
              "width": 0.5
             },
             "pattern": {
              "fillmode": "overlay",
              "size": 10,
              "solidity": 0.2
             }
            },
            "type": "barpolar"
           }
          ],
          "carpet": [
           {
            "aaxis": {
             "endlinecolor": "#2a3f5f",
             "gridcolor": "white",
             "linecolor": "white",
             "minorgridcolor": "white",
             "startlinecolor": "#2a3f5f"
            },
            "baxis": {
             "endlinecolor": "#2a3f5f",
             "gridcolor": "white",
             "linecolor": "white",
             "minorgridcolor": "white",
             "startlinecolor": "#2a3f5f"
            },
            "type": "carpet"
           }
          ],
          "choropleth": [
           {
            "colorbar": {
             "outlinewidth": 0,
             "ticks": ""
            },
            "type": "choropleth"
           }
          ],
          "contour": [
           {
            "colorbar": {
             "outlinewidth": 0,
             "ticks": ""
            },
            "colorscale": [
             [
              0,
              "#0d0887"
             ],
             [
              0.1111111111111111,
              "#46039f"
             ],
             [
              0.2222222222222222,
              "#7201a8"
             ],
             [
              0.3333333333333333,
              "#9c179e"
             ],
             [
              0.4444444444444444,
              "#bd3786"
             ],
             [
              0.5555555555555556,
              "#d8576b"
             ],
             [
              0.6666666666666666,
              "#ed7953"
             ],
             [
              0.7777777777777778,
              "#fb9f3a"
             ],
             [
              0.8888888888888888,
              "#fdca26"
             ],
             [
              1,
              "#f0f921"
             ]
            ],
            "type": "contour"
           }
          ],
          "contourcarpet": [
           {
            "colorbar": {
             "outlinewidth": 0,
             "ticks": ""
            },
            "type": "contourcarpet"
           }
          ],
          "heatmap": [
           {
            "colorbar": {
             "outlinewidth": 0,
             "ticks": ""
            },
            "colorscale": [
             [
              0,
              "#0d0887"
             ],
             [
              0.1111111111111111,
              "#46039f"
             ],
             [
              0.2222222222222222,
              "#7201a8"
             ],
             [
              0.3333333333333333,
              "#9c179e"
             ],
             [
              0.4444444444444444,
              "#bd3786"
             ],
             [
              0.5555555555555556,
              "#d8576b"
             ],
             [
              0.6666666666666666,
              "#ed7953"
             ],
             [
              0.7777777777777778,
              "#fb9f3a"
             ],
             [
              0.8888888888888888,
              "#fdca26"
             ],
             [
              1,
              "#f0f921"
             ]
            ],
            "type": "heatmap"
           }
          ],
          "histogram": [
           {
            "marker": {
             "pattern": {
              "fillmode": "overlay",
              "size": 10,
              "solidity": 0.2
             }
            },
            "type": "histogram"
           }
          ],
          "histogram2d": [
           {
            "colorbar": {
             "outlinewidth": 0,
             "ticks": ""
            },
            "colorscale": [
             [
              0,
              "#0d0887"
             ],
             [
              0.1111111111111111,
              "#46039f"
             ],
             [
              0.2222222222222222,
              "#7201a8"
             ],
             [
              0.3333333333333333,
              "#9c179e"
             ],
             [
              0.4444444444444444,
              "#bd3786"
             ],
             [
              0.5555555555555556,
              "#d8576b"
             ],
             [
              0.6666666666666666,
              "#ed7953"
             ],
             [
              0.7777777777777778,
              "#fb9f3a"
             ],
             [
              0.8888888888888888,
              "#fdca26"
             ],
             [
              1,
              "#f0f921"
             ]
            ],
            "type": "histogram2d"
           }
          ],
          "histogram2dcontour": [
           {
            "colorbar": {
             "outlinewidth": 0,
             "ticks": ""
            },
            "colorscale": [
             [
              0,
              "#0d0887"
             ],
             [
              0.1111111111111111,
              "#46039f"
             ],
             [
              0.2222222222222222,
              "#7201a8"
             ],
             [
              0.3333333333333333,
              "#9c179e"
             ],
             [
              0.4444444444444444,
              "#bd3786"
             ],
             [
              0.5555555555555556,
              "#d8576b"
             ],
             [
              0.6666666666666666,
              "#ed7953"
             ],
             [
              0.7777777777777778,
              "#fb9f3a"
             ],
             [
              0.8888888888888888,
              "#fdca26"
             ],
             [
              1,
              "#f0f921"
             ]
            ],
            "type": "histogram2dcontour"
           }
          ],
          "mesh3d": [
           {
            "colorbar": {
             "outlinewidth": 0,
             "ticks": ""
            },
            "type": "mesh3d"
           }
          ],
          "parcoords": [
           {
            "line": {
             "colorbar": {
              "outlinewidth": 0,
              "ticks": ""
             }
            },
            "type": "parcoords"
           }
          ],
          "pie": [
           {
            "automargin": true,
            "type": "pie"
           }
          ],
          "scatter": [
           {
            "fillpattern": {
             "fillmode": "overlay",
             "size": 10,
             "solidity": 0.2
            },
            "type": "scatter"
           }
          ],
          "scatter3d": [
           {
            "line": {
             "colorbar": {
              "outlinewidth": 0,
              "ticks": ""
             }
            },
            "marker": {
             "colorbar": {
              "outlinewidth": 0,
              "ticks": ""
             }
            },
            "type": "scatter3d"
           }
          ],
          "scattercarpet": [
           {
            "marker": {
             "colorbar": {
              "outlinewidth": 0,
              "ticks": ""
             }
            },
            "type": "scattercarpet"
           }
          ],
          "scattergeo": [
           {
            "marker": {
             "colorbar": {
              "outlinewidth": 0,
              "ticks": ""
             }
            },
            "type": "scattergeo"
           }
          ],
          "scattergl": [
           {
            "marker": {
             "colorbar": {
              "outlinewidth": 0,
              "ticks": ""
             }
            },
            "type": "scattergl"
           }
          ],
          "scattermap": [
           {
            "marker": {
             "colorbar": {
              "outlinewidth": 0,
              "ticks": ""
             }
            },
            "type": "scattermap"
           }
          ],
          "scattermapbox": [
           {
            "marker": {
             "colorbar": {
              "outlinewidth": 0,
              "ticks": ""
             }
            },
            "type": "scattermapbox"
           }
          ],
          "scatterpolar": [
           {
            "marker": {
             "colorbar": {
              "outlinewidth": 0,
              "ticks": ""
             }
            },
            "type": "scatterpolar"
           }
          ],
          "scatterpolargl": [
           {
            "marker": {
             "colorbar": {
              "outlinewidth": 0,
              "ticks": ""
             }
            },
            "type": "scatterpolargl"
           }
          ],
          "scatterternary": [
           {
            "marker": {
             "colorbar": {
              "outlinewidth": 0,
              "ticks": ""
             }
            },
            "type": "scatterternary"
           }
          ],
          "surface": [
           {
            "colorbar": {
             "outlinewidth": 0,
             "ticks": ""
            },
            "colorscale": [
             [
              0,
              "#0d0887"
             ],
             [
              0.1111111111111111,
              "#46039f"
             ],
             [
              0.2222222222222222,
              "#7201a8"
             ],
             [
              0.3333333333333333,
              "#9c179e"
             ],
             [
              0.4444444444444444,
              "#bd3786"
             ],
             [
              0.5555555555555556,
              "#d8576b"
             ],
             [
              0.6666666666666666,
              "#ed7953"
             ],
             [
              0.7777777777777778,
              "#fb9f3a"
             ],
             [
              0.8888888888888888,
              "#fdca26"
             ],
             [
              1,
              "#f0f921"
             ]
            ],
            "type": "surface"
           }
          ],
          "table": [
           {
            "cells": {
             "fill": {
              "color": "#EBF0F8"
             },
             "line": {
              "color": "white"
             }
            },
            "header": {
             "fill": {
              "color": "#C8D4E3"
             },
             "line": {
              "color": "white"
             }
            },
            "type": "table"
           }
          ]
         },
         "layout": {
          "annotationdefaults": {
           "arrowcolor": "#2a3f5f",
           "arrowhead": 0,
           "arrowwidth": 1
          },
          "autotypenumbers": "strict",
          "coloraxis": {
           "colorbar": {
            "outlinewidth": 0,
            "ticks": ""
           }
          },
          "colorscale": {
           "diverging": [
            [
             0,
             "#8e0152"
            ],
            [
             0.1,
             "#c51b7d"
            ],
            [
             0.2,
             "#de77ae"
            ],
            [
             0.3,
             "#f1b6da"
            ],
            [
             0.4,
             "#fde0ef"
            ],
            [
             0.5,
             "#f7f7f7"
            ],
            [
             0.6,
             "#e6f5d0"
            ],
            [
             0.7,
             "#b8e186"
            ],
            [
             0.8,
             "#7fbc41"
            ],
            [
             0.9,
             "#4d9221"
            ],
            [
             1,
             "#276419"
            ]
           ],
           "sequential": [
            [
             0,
             "#0d0887"
            ],
            [
             0.1111111111111111,
             "#46039f"
            ],
            [
             0.2222222222222222,
             "#7201a8"
            ],
            [
             0.3333333333333333,
             "#9c179e"
            ],
            [
             0.4444444444444444,
             "#bd3786"
            ],
            [
             0.5555555555555556,
             "#d8576b"
            ],
            [
             0.6666666666666666,
             "#ed7953"
            ],
            [
             0.7777777777777778,
             "#fb9f3a"
            ],
            [
             0.8888888888888888,
             "#fdca26"
            ],
            [
             1,
             "#f0f921"
            ]
           ],
           "sequentialminus": [
            [
             0,
             "#0d0887"
            ],
            [
             0.1111111111111111,
             "#46039f"
            ],
            [
             0.2222222222222222,
             "#7201a8"
            ],
            [
             0.3333333333333333,
             "#9c179e"
            ],
            [
             0.4444444444444444,
             "#bd3786"
            ],
            [
             0.5555555555555556,
             "#d8576b"
            ],
            [
             0.6666666666666666,
             "#ed7953"
            ],
            [
             0.7777777777777778,
             "#fb9f3a"
            ],
            [
             0.8888888888888888,
             "#fdca26"
            ],
            [
             1,
             "#f0f921"
            ]
           ]
          },
          "colorway": [
           "#636efa",
           "#EF553B",
           "#00cc96",
           "#ab63fa",
           "#FFA15A",
           "#19d3f3",
           "#FF6692",
           "#B6E880",
           "#FF97FF",
           "#FECB52"
          ],
          "font": {
           "color": "#2a3f5f"
          },
          "geo": {
           "bgcolor": "white",
           "lakecolor": "white",
           "landcolor": "#E5ECF6",
           "showlakes": true,
           "showland": true,
           "subunitcolor": "white"
          },
          "hoverlabel": {
           "align": "left"
          },
          "hovermode": "closest",
          "mapbox": {
           "style": "light"
          },
          "paper_bgcolor": "white",
          "plot_bgcolor": "#E5ECF6",
          "polar": {
           "angularaxis": {
            "gridcolor": "white",
            "linecolor": "white",
            "ticks": ""
           },
           "bgcolor": "#E5ECF6",
           "radialaxis": {
            "gridcolor": "white",
            "linecolor": "white",
            "ticks": ""
           }
          },
          "scene": {
           "xaxis": {
            "backgroundcolor": "#E5ECF6",
            "gridcolor": "white",
            "gridwidth": 2,
            "linecolor": "white",
            "showbackground": true,
            "ticks": "",
            "zerolinecolor": "white"
           },
           "yaxis": {
            "backgroundcolor": "#E5ECF6",
            "gridcolor": "white",
            "gridwidth": 2,
            "linecolor": "white",
            "showbackground": true,
            "ticks": "",
            "zerolinecolor": "white"
           },
           "zaxis": {
            "backgroundcolor": "#E5ECF6",
            "gridcolor": "white",
            "gridwidth": 2,
            "linecolor": "white",
            "showbackground": true,
            "ticks": "",
            "zerolinecolor": "white"
           }
          },
          "shapedefaults": {
           "line": {
            "color": "#2a3f5f"
           }
          },
          "ternary": {
           "aaxis": {
            "gridcolor": "white",
            "linecolor": "white",
            "ticks": ""
           },
           "baxis": {
            "gridcolor": "white",
            "linecolor": "white",
            "ticks": ""
           },
           "bgcolor": "#E5ECF6",
           "caxis": {
            "gridcolor": "white",
            "linecolor": "white",
            "ticks": ""
           }
          },
          "title": {
           "x": 0.05
          },
          "xaxis": {
           "automargin": true,
           "gridcolor": "white",
           "linecolor": "white",
           "ticks": "",
           "title": {
            "standoff": 15
           },
           "zerolinecolor": "white",
           "zerolinewidth": 2
          },
          "yaxis": {
           "automargin": true,
           "gridcolor": "white",
           "linecolor": "white",
           "ticks": "",
           "title": {
            "standoff": 15
           },
           "zerolinecolor": "white",
           "zerolinewidth": 2
          }
         }
        },
        "title": {
         "text": "Default Count by Sex"
        },
        "xaxis": {
         "anchor": "y",
         "domain": [
          0,
          1
         ],
         "title": {
          "text": "Sex (1=Male, 2=Female)"
         }
        },
        "yaxis": {
         "anchor": "x",
         "domain": [
          0,
          1
         ],
         "title": {
          "text": "Count"
         }
        }
       }
      }
     },
     "metadata": {},
     "output_type": "display_data"
    }
   ],
   "source": [
    "import plotly.express as px\n",
    "\n",
    "fig = px.histogram(\n",
    "    df,                      # اسم الداتا\n",
    "    x='SEX',                 # المحور الأفقي\n",
    "    color='default',  # اللون يمثل الـ Default\n",
    "    barmode='group',         # عشان يطلعوا جنب بعض\n",
    "    text_auto=True,          # عرض الأرقام على الأعمدة\n",
    "    title='Default Count by Sex'\n",
    ")\n",
    "\n",
    "fig.update_layout(\n",
    "    xaxis_title='Sex (1=Male, 2=Female)',\n",
    "    yaxis_title='Count',\n",
    "    legend_title='Default (0=No, 1=Yes)'\n",
    ")\n",
    "\n",
    "fig.show()\n"
   ]
  },
  {
   "cell_type": "code",
   "execution_count": 47,
   "id": "b61a1843",
   "metadata": {},
   "outputs": [
    {
     "data": {
      "application/vnd.plotly.v1+json": {
       "config": {
        "plotlyServerURL": "https://plot.ly"
       },
       "data": [
        {
         "alignmentgroup": "True",
         "bingroup": "x",
         "hovertemplate": "default=1<br>AGE=%{x}<br>count=%{y}<extra></extra>",
         "legendgroup": "1",
         "marker": {
          "color": "#636efa",
          "pattern": {
           "shape": ""
          }
         },
         "name": "1",
         "offsetgroup": "1",
         "orientation": "v",
         "showlegend": true,
         "texttemplate": "%{value}",
         "type": "histogram",
         "x": {
          "bdata": "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",
          "dtype": "i1"
         },
         "xaxis": "x",
         "yaxis": "y"
        },
        {
         "alignmentgroup": "True",
         "bingroup": "x",
         "hovertemplate": "default=0<br>AGE=%{x}<br>count=%{y}<extra></extra>",
         "legendgroup": "0",
         "marker": {
          "color": "#EF553B",
          "pattern": {
           "shape": ""
          }
         },
         "name": "0",
         "offsetgroup": "0",
         "orientation": "v",
         "showlegend": true,
         "texttemplate": "%{value}",
         "type": "histogram",
         "x": {
          "bdata": "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",
          "dtype": "i1"
         },
         "xaxis": "x",
         "yaxis": "y"
        }
       ],
       "layout": {
        "barmode": "group",
        "legend": {
         "title": {
          "text": "Default (0=No, 1=Yes)"
         },
         "tracegroupgap": 0
        },
        "template": {
         "data": {
          "bar": [
           {
            "error_x": {
             "color": "#2a3f5f"
            },
            "error_y": {
             "color": "#2a3f5f"
            },
            "marker": {
             "line": {
              "color": "#E5ECF6",
              "width": 0.5
             },
             "pattern": {
              "fillmode": "overlay",
              "size": 10,
              "solidity": 0.2
             }
            },
            "type": "bar"
           }
          ],
          "barpolar": [
           {
            "marker": {
             "line": {
              "color": "#E5ECF6",
              "width": 0.5
             },
             "pattern": {
              "fillmode": "overlay",
              "size": 10,
              "solidity": 0.2
             }
            },
            "type": "barpolar"
           }
          ],
          "carpet": [
           {
            "aaxis": {
             "endlinecolor": "#2a3f5f",
             "gridcolor": "white",
             "linecolor": "white",
             "minorgridcolor": "white",
             "startlinecolor": "#2a3f5f"
            },
            "baxis": {
             "endlinecolor": "#2a3f5f",
             "gridcolor": "white",
             "linecolor": "white",
             "minorgridcolor": "white",
             "startlinecolor": "#2a3f5f"
            },
            "type": "carpet"
           }
          ],
          "choropleth": [
           {
            "colorbar": {
             "outlinewidth": 0,
             "ticks": ""
            },
            "type": "choropleth"
           }
          ],
          "contour": [
           {
            "colorbar": {
             "outlinewidth": 0,
             "ticks": ""
            },
            "colorscale": [
             [
              0,
              "#0d0887"
             ],
             [
              0.1111111111111111,
              "#46039f"
             ],
             [
              0.2222222222222222,
              "#7201a8"
             ],
             [
              0.3333333333333333,
              "#9c179e"
             ],
             [
              0.4444444444444444,
              "#bd3786"
             ],
             [
              0.5555555555555556,
              "#d8576b"
             ],
             [
              0.6666666666666666,
              "#ed7953"
             ],
             [
              0.7777777777777778,
              "#fb9f3a"
             ],
             [
              0.8888888888888888,
              "#fdca26"
             ],
             [
              1,
              "#f0f921"
             ]
            ],
            "type": "contour"
           }
          ],
          "contourcarpet": [
           {
            "colorbar": {
             "outlinewidth": 0,
             "ticks": ""
            },
            "type": "contourcarpet"
           }
          ],
          "heatmap": [
           {
            "colorbar": {
             "outlinewidth": 0,
             "ticks": ""
            },
            "colorscale": [
             [
              0,
              "#0d0887"
             ],
             [
              0.1111111111111111,
              "#46039f"
             ],
             [
              0.2222222222222222,
              "#7201a8"
             ],
             [
              0.3333333333333333,
              "#9c179e"
             ],
             [
              0.4444444444444444,
              "#bd3786"
             ],
             [
              0.5555555555555556,
              "#d8576b"
             ],
             [
              0.6666666666666666,
              "#ed7953"
             ],
             [
              0.7777777777777778,
              "#fb9f3a"
             ],
             [
              0.8888888888888888,
              "#fdca26"
             ],
             [
              1,
              "#f0f921"
             ]
            ],
            "type": "heatmap"
           }
          ],
          "histogram": [
           {
            "marker": {
             "pattern": {
              "fillmode": "overlay",
              "size": 10,
              "solidity": 0.2
             }
            },
            "type": "histogram"
           }
          ],
          "histogram2d": [
           {
            "colorbar": {
             "outlinewidth": 0,
             "ticks": ""
            },
            "colorscale": [
             [
              0,
              "#0d0887"
             ],
             [
              0.1111111111111111,
              "#46039f"
             ],
             [
              0.2222222222222222,
              "#7201a8"
             ],
             [
              0.3333333333333333,
              "#9c179e"
             ],
             [
              0.4444444444444444,
              "#bd3786"
             ],
             [
              0.5555555555555556,
              "#d8576b"
             ],
             [
              0.6666666666666666,
              "#ed7953"
             ],
             [
              0.7777777777777778,
              "#fb9f3a"
             ],
             [
              0.8888888888888888,
              "#fdca26"
             ],
             [
              1,
              "#f0f921"
             ]
            ],
            "type": "histogram2d"
           }
          ],
          "histogram2dcontour": [
           {
            "colorbar": {
             "outlinewidth": 0,
             "ticks": ""
            },
            "colorscale": [
             [
              0,
              "#0d0887"
             ],
             [
              0.1111111111111111,
              "#46039f"
             ],
             [
              0.2222222222222222,
              "#7201a8"
             ],
             [
              0.3333333333333333,
              "#9c179e"
             ],
             [
              0.4444444444444444,
              "#bd3786"
             ],
             [
              0.5555555555555556,
              "#d8576b"
             ],
             [
              0.6666666666666666,
              "#ed7953"
             ],
             [
              0.7777777777777778,
              "#fb9f3a"
             ],
             [
              0.8888888888888888,
              "#fdca26"
             ],
             [
              1,
              "#f0f921"
             ]
            ],
            "type": "histogram2dcontour"
           }
          ],
          "mesh3d": [
           {
            "colorbar": {
             "outlinewidth": 0,
             "ticks": ""
            },
            "type": "mesh3d"
           }
          ],
          "parcoords": [
           {
            "line": {
             "colorbar": {
              "outlinewidth": 0,
              "ticks": ""
             }
            },
            "type": "parcoords"
           }
          ],
          "pie": [
           {
            "automargin": true,
            "type": "pie"
           }
          ],
          "scatter": [
           {
            "fillpattern": {
             "fillmode": "overlay",
             "size": 10,
             "solidity": 0.2
            },
            "type": "scatter"
           }
          ],
          "scatter3d": [
           {
            "line": {
             "colorbar": {
              "outlinewidth": 0,
              "ticks": ""
             }
            },
            "marker": {
             "colorbar": {
              "outlinewidth": 0,
              "ticks": ""
             }
            },
            "type": "scatter3d"
           }
          ],
          "scattercarpet": [
           {
            "marker": {
             "colorbar": {
              "outlinewidth": 0,
              "ticks": ""
             }
            },
            "type": "scattercarpet"
           }
          ],
          "scattergeo": [
           {
            "marker": {
             "colorbar": {
              "outlinewidth": 0,
              "ticks": ""
             }
            },
            "type": "scattergeo"
           }
          ],
          "scattergl": [
           {
            "marker": {
             "colorbar": {
              "outlinewidth": 0,
              "ticks": ""
             }
            },
            "type": "scattergl"
           }
          ],
          "scattermap": [
           {
            "marker": {
             "colorbar": {
              "outlinewidth": 0,
              "ticks": ""
             }
            },
            "type": "scattermap"
           }
          ],
          "scattermapbox": [
           {
            "marker": {
             "colorbar": {
              "outlinewidth": 0,
              "ticks": ""
             }
            },
            "type": "scattermapbox"
           }
          ],
          "scatterpolar": [
           {
            "marker": {
             "colorbar": {
              "outlinewidth": 0,
              "ticks": ""
             }
            },
            "type": "scatterpolar"
           }
          ],
          "scatterpolargl": [
           {
            "marker": {
             "colorbar": {
              "outlinewidth": 0,
              "ticks": ""
             }
            },
            "type": "scatterpolargl"
           }
          ],
          "scatterternary": [
           {
            "marker": {
             "colorbar": {
              "outlinewidth": 0,
              "ticks": ""
             }
            },
            "type": "scatterternary"
           }
          ],
          "surface": [
           {
            "colorbar": {
             "outlinewidth": 0,
             "ticks": ""
            },
            "colorscale": [
             [
              0,
              "#0d0887"
             ],
             [
              0.1111111111111111,
              "#46039f"
             ],
             [
              0.2222222222222222,
              "#7201a8"
             ],
             [
              0.3333333333333333,
              "#9c179e"
             ],
             [
              0.4444444444444444,
              "#bd3786"
             ],
             [
              0.5555555555555556,
              "#d8576b"
             ],
             [
              0.6666666666666666,
              "#ed7953"
             ],
             [
              0.7777777777777778,
              "#fb9f3a"
             ],
             [
              0.8888888888888888,
              "#fdca26"
             ],
             [
              1,
              "#f0f921"
             ]
            ],
            "type": "surface"
           }
          ],
          "table": [
           {
            "cells": {
             "fill": {
              "color": "#EBF0F8"
             },
             "line": {
              "color": "white"
             }
            },
            "header": {
             "fill": {
              "color": "#C8D4E3"
             },
             "line": {
              "color": "white"
             }
            },
            "type": "table"
           }
          ]
         },
         "layout": {
          "annotationdefaults": {
           "arrowcolor": "#2a3f5f",
           "arrowhead": 0,
           "arrowwidth": 1
          },
          "autotypenumbers": "strict",
          "coloraxis": {
           "colorbar": {
            "outlinewidth": 0,
            "ticks": ""
           }
          },
          "colorscale": {
           "diverging": [
            [
             0,
             "#8e0152"
            ],
            [
             0.1,
             "#c51b7d"
            ],
            [
             0.2,
             "#de77ae"
            ],
            [
             0.3,
             "#f1b6da"
            ],
            [
             0.4,
             "#fde0ef"
            ],
            [
             0.5,
             "#f7f7f7"
            ],
            [
             0.6,
             "#e6f5d0"
            ],
            [
             0.7,
             "#b8e186"
            ],
            [
             0.8,
             "#7fbc41"
            ],
            [
             0.9,
             "#4d9221"
            ],
            [
             1,
             "#276419"
            ]
           ],
           "sequential": [
            [
             0,
             "#0d0887"
            ],
            [
             0.1111111111111111,
             "#46039f"
            ],
            [
             0.2222222222222222,
             "#7201a8"
            ],
            [
             0.3333333333333333,
             "#9c179e"
            ],
            [
             0.4444444444444444,
             "#bd3786"
            ],
            [
             0.5555555555555556,
             "#d8576b"
            ],
            [
             0.6666666666666666,
             "#ed7953"
            ],
            [
             0.7777777777777778,
             "#fb9f3a"
            ],
            [
             0.8888888888888888,
             "#fdca26"
            ],
            [
             1,
             "#f0f921"
            ]
           ],
           "sequentialminus": [
            [
             0,
             "#0d0887"
            ],
            [
             0.1111111111111111,
             "#46039f"
            ],
            [
             0.2222222222222222,
             "#7201a8"
            ],
            [
             0.3333333333333333,
             "#9c179e"
            ],
            [
             0.4444444444444444,
             "#bd3786"
            ],
            [
             0.5555555555555556,
             "#d8576b"
            ],
            [
             0.6666666666666666,
             "#ed7953"
            ],
            [
             0.7777777777777778,
             "#fb9f3a"
            ],
            [
             0.8888888888888888,
             "#fdca26"
            ],
            [
             1,
             "#f0f921"
            ]
           ]
          },
          "colorway": [
           "#636efa",
           "#EF553B",
           "#00cc96",
           "#ab63fa",
           "#FFA15A",
           "#19d3f3",
           "#FF6692",
           "#B6E880",
           "#FF97FF",
           "#FECB52"
          ],
          "font": {
           "color": "#2a3f5f"
          },
          "geo": {
           "bgcolor": "white",
           "lakecolor": "white",
           "landcolor": "#E5ECF6",
           "showlakes": true,
           "showland": true,
           "subunitcolor": "white"
          },
          "hoverlabel": {
           "align": "left"
          },
          "hovermode": "closest",
          "mapbox": {
           "style": "light"
          },
          "paper_bgcolor": "white",
          "plot_bgcolor": "#E5ECF6",
          "polar": {
           "angularaxis": {
            "gridcolor": "white",
            "linecolor": "white",
            "ticks": ""
           },
           "bgcolor": "#E5ECF6",
           "radialaxis": {
            "gridcolor": "white",
            "linecolor": "white",
            "ticks": ""
           }
          },
          "scene": {
           "xaxis": {
            "backgroundcolor": "#E5ECF6",
            "gridcolor": "white",
            "gridwidth": 2,
            "linecolor": "white",
            "showbackground": true,
            "ticks": "",
            "zerolinecolor": "white"
           },
           "yaxis": {
            "backgroundcolor": "#E5ECF6",
            "gridcolor": "white",
            "gridwidth": 2,
            "linecolor": "white",
            "showbackground": true,
            "ticks": "",
            "zerolinecolor": "white"
           },
           "zaxis": {
            "backgroundcolor": "#E5ECF6",
            "gridcolor": "white",
            "gridwidth": 2,
            "linecolor": "white",
            "showbackground": true,
            "ticks": "",
            "zerolinecolor": "white"
           }
          },
          "shapedefaults": {
           "line": {
            "color": "#2a3f5f"
           }
          },
          "ternary": {
           "aaxis": {
            "gridcolor": "white",
            "linecolor": "white",
            "ticks": ""
           },
           "baxis": {
            "gridcolor": "white",
            "linecolor": "white",
            "ticks": ""
           },
           "bgcolor": "#E5ECF6",
           "caxis": {
            "gridcolor": "white",
            "linecolor": "white",
            "ticks": ""
           }
          },
          "title": {
           "x": 0.05
          },
          "xaxis": {
           "automargin": true,
           "gridcolor": "white",
           "linecolor": "white",
           "ticks": "",
           "title": {
            "standoff": 15
           },
           "zerolinecolor": "white",
           "zerolinewidth": 2
          },
          "yaxis": {
           "automargin": true,
           "gridcolor": "white",
           "linecolor": "white",
           "ticks": "",
           "title": {
            "standoff": 15
           },
           "zerolinecolor": "white",
           "zerolinewidth": 2
          }
         }
        },
        "title": {
         "text": "Default Count by Age"
        },
        "xaxis": {
         "anchor": "y",
         "domain": [
          0,
          1
         ],
         "title": {
          "text": "Age"
         }
        },
        "yaxis": {
         "anchor": "x",
         "domain": [
          0,
          1
         ],
         "title": {
          "text": "Count"
         }
        }
       }
      }
     },
     "metadata": {},
     "output_type": "display_data"
    }
   ],
   "source": [
    "fig = px.histogram(\n",
    "    df,                      # اسم الداتا\n",
    "    x='AGE',                 # المحور الأفقي\n",
    "    color='default',  # اللون يمثل الـ Default\n",
    "    barmode='group',         # عشان يطلعوا جنب بعض\n",
    "    text_auto=True,          # عرض الأرقام على الأعمدة\n",
    "    title='Default Count by Age'\n",
    ")\n",
    "\n",
    "fig.update_layout(\n",
    "    xaxis_title='Age',\n",
    "    yaxis_title='Count',\n",
    "    legend_title='Default (0=No, 1=Yes)'\n",
    ")\n",
    "\n",
    "fig.show()"
   ]
  },
  {
   "cell_type": "code",
   "execution_count": 48,
   "id": "3783998f",
   "metadata": {},
   "outputs": [
    {
     "data": {
      "image/png": "[encoded data removed]",
      "text/plain": [
       "<Figure size 800x500 with 1 Axes>"
      ]
     },
     "metadata": {},
     "output_type": "display_data"
    }
   ],
   "source": [
    "plt.figure(figsize=(8,5))\n",
    "sns.boxplot(x='default',y='AGE',data=df)\n",
    "plt.title('Boxplot of AGE by Default')\n",
    "plt.xlabel('Default')\n",
    "plt.ylabel('Age')\n",
    "plt.show()"
   ]
  },
  {
   "cell_type": "code",
   "execution_count": 49,
   "id": "83bac240",
   "metadata": {},
   "outputs": [
    {
     "data": {
      "text/plain": [
       "Index(['LIMIT_BAL', 'SEX', 'EDUCATION', 'MARRIAGE', 'AGE', 'PAY_0', 'PAY_2',\n",
       "       'PAY_3', 'PAY_4', 'PAY_5', 'PAY_6', 'BILL_AMT1', 'BILL_AMT2',\n",
       "       'BILL_AMT3', 'BILL_AMT4', 'BILL_AMT5', 'BILL_AMT6', 'PAY_AMT1',\n",
       "       'PAY_AMT2', 'PAY_AMT3', 'PAY_AMT4', 'PAY_AMT5', 'PAY_AMT6', 'default'],\n",
       "      dtype='object')"
      ]
     },
     "execution_count": 49,
     "metadata": {},
     "output_type": "execute_result"
    }
   ],
   "source": [
    "df.columns\n"
   ]
  },
  {
   "cell_type": "code",
   "execution_count": 50,
   "id": "ed03379c",
   "metadata": {},
   "outputs": [],
   "source": [
    "df[\"avg_bill_amt\"] = df[[\"BILL_AMT1\", \"BILL_AMT2\", \"BILL_AMT3\",\n",
    "                         \"BILL_AMT4\", \"BILL_AMT5\", \"BILL_AMT6\"]].mean(axis=1)\n"
   ]
  },
  {
   "cell_type": "code",
   "execution_count": 51,
   "id": "883a3a11",
   "metadata": {},
   "outputs": [
    {
     "data": {
      "image/png": "[encoded data removed]",
      "text/plain": [
       "<Figure size 800x500 with 1 Axes>"
      ]
     },
     "metadata": {},
     "output_type": "display_data"
    }
   ],
   "source": [
    "plt.figure(figsize=(8,5))\n",
    "sns.boxplot(x='default',y='avg_bill_amt',data=df)\n",
    "plt.title('Boxplot of Average Bill Amount by Default')\n",
    "plt.xlabel('Default')\n",
    "plt.ylabel('Average Bill Amount')\n",
    "plt.show()"
   ]
  },
  {
   "cell_type": "code",
   "execution_count": 52,
   "id": "01eda4ca",
   "metadata": {},
   "outputs": [],
   "source": [
    "df['avg_pay_amt'] = df[[\"PAY_AMT1\", \"PAY_AMT2\", \"PAY_AMT3\",\n",
    "                         \"PAY_AMT4\", \"PAY_AMT5\", \"PAY_AMT6\"]].mean(axis=1)\n"
   ]
  },
  {
   "cell_type": "code",
   "execution_count": 53,
   "id": "eef07daf",
   "metadata": {},
   "outputs": [
    {
     "data": {
      "image/png": "[encoded data removed]",
      "text/plain": [
       "<Figure size 800x500 with 1 Axes>"
      ]
     },
     "metadata": {},
     "output_type": "display_data"
    }
   ],
   "source": [
    "plt.figure(figsize=(8, 5))\n",
    "sns.boxplot(x='default',y='avg_pay_amt',data=df)\n",
    "plt.title('Boxplot of Average Payment Amount by Default')\n",
    "plt.xlabel('Default')\n",
    "plt.ylabel('Average Payment Amount')\n",
    "plt.show()"
   ]
  },
  {
   "cell_type": "code",
   "execution_count": 54,
   "id": "daed39a9",
   "metadata": {},
   "outputs": [
    {
     "data": {
      "image/png": "[encoded data removed]",
      "text/plain": [
       "<Figure size 1400x1000 with 2 Axes>"
      ]
     },
     "metadata": {},
     "output_type": "display_data"
    },
    {
     "name": "stdout",
     "output_type": "stream",
     "text": [
      "default         1.000000\n",
      "PAY_0           0.324794\n",
      "PAY_2           0.263551\n",
      "PAY_3           0.235253\n",
      "PAY_4           0.216614\n",
      "PAY_5           0.204149\n",
      "PAY_6           0.186866\n",
      "EDUCATION       0.028006\n",
      "AGE             0.013890\n",
      "BILL_AMT6      -0.005372\n",
      "BILL_AMT5      -0.006760\n",
      "BILL_AMT4      -0.010156\n",
      "avg_bill_amt   -0.012691\n",
      "BILL_AMT3      -0.014076\n",
      "BILL_AMT2      -0.014193\n",
      "BILL_AMT1      -0.019644\n",
      "MARRIAGE       -0.024339\n",
      "SEX            -0.039961\n",
      "PAY_AMT6       -0.053183\n",
      "PAY_AMT5       -0.055124\n",
      "PAY_AMT3       -0.056250\n",
      "PAY_AMT4       -0.056827\n",
      "PAY_AMT2       -0.058579\n",
      "PAY_AMT1       -0.072929\n",
      "avg_pay_amt    -0.102354\n",
      "LIMIT_BAL      -0.153520\n",
      "Name: default, dtype: float64\n"
     ]
    }
   ],
   "source": [
    "corr = df.corr()\n",
    "plt.figure(figsize=(14, 10))\n",
    "sns.heatmap(corr, annot=False, cmap='coolwarm', center=0)\n",
    "plt.title('Correlation Matrix of Credit Card Default Dataset', fontsize=16)\n",
    "plt.show()\n",
    "\n",
    "corr_target = corr['default'].sort_values(ascending=False)\n",
    "print(corr_target)"
   ]
  },
  {
   "cell_type": "markdown",
   "metadata": {},
   "source": []
  },
  {
   "cell_type": "code",
   "execution_count": 55,
   "id": "c97e0f99",
   "metadata": {},
   "outputs": [
    {
     "data": {
      "image/png": "[encoded data removed]",
      "text/plain": [
       "<Figure size 800x500 with 1 Axes>"
      ]
     },
     "metadata": {},
     "output_type": "display_data"
    }
   ],
   "source": [
    "plt.figure(figsize=(8, 5))\n",
    "sns.boxplot(x='default',y='PAY_0',data=df)\n",
    "plt.title('Boxplot of PAY_0 by Default')\n",
    "plt.xlabel('Default')\n",
    "plt.ylabel('PAY_0')\n",
    "plt.show()"
   ]
  },
  {
   "cell_type": "code",
   "execution_count": 56,
   "id": "202298c1",
   "metadata": {},
   "outputs": [
    {
     "data": {
      "image/png": "[encoded data removed]",
      "text/plain": [
       "<Figure size 800x500 with 1 Axes>"
      ]
     },
     "metadata": {},
     "output_type": "display_data"
    }
   ],
   "source": [
    "plt.figure(figsize=(8, 5))\n",
    "sns.boxplot(x='default',y='PAY_2',data=df)\n",
    "plt.title('Boxplot of PAY_2 by Default')\n",
    "plt.xlabel('Default')\n",
    "plt.ylabel('PAY_2')\n",
    "plt.show()"
   ]
  },
  {
   "cell_type": "code",
   "execution_count": 57,
   "id": "84aa45db",
   "metadata": {},
   "outputs": [
    {
     "data": {
      "text/plain": [
       "LIMIT_BAL       0\n",
       "SEX             0\n",
       "EDUCATION       0\n",
       "MARRIAGE        0\n",
       "AGE             0\n",
       "PAY_0           0\n",
       "PAY_2           0\n",
       "PAY_3           0\n",
       "PAY_4           0\n",
       "PAY_5           0\n",
       "PAY_6           0\n",
       "BILL_AMT1       0\n",
       "BILL_AMT2       0\n",
       "BILL_AMT3       0\n",
       "BILL_AMT4       0\n",
       "BILL_AMT5       0\n",
       "BILL_AMT6       0\n",
       "PAY_AMT1        0\n",
       "PAY_AMT2        0\n",
       "PAY_AMT3        0\n",
       "PAY_AMT4        0\n",
       "PAY_AMT5        0\n",
       "PAY_AMT6        0\n",
       "default         0\n",
       "avg_bill_amt    0\n",
       "avg_pay_amt     0\n",
       "dtype: int64"
      ]
     },
     "execution_count": 57,
     "metadata": {},
     "output_type": "execute_result"
    }
   ],
   "source": [
    "# Check missing values\n",
    "df.isnull().sum()"
   ]
  },
  {
   "cell_type": "code",
   "execution_count": 58,
   "id": "c23cda4d",
   "metadata": {},
   "outputs": [
    {
     "data": {
      "text/html": [
       "<div>\n",
       "<style scoped>\n",
       "    .dataframe tbody tr th:only-of-type {\n",
       "        vertical-align: middle;\n",
       "    }\n",
       "\n",
       "    .dataframe tbody tr th {\n",
       "        vertical-align: top;\n",
       "    }\n",
       "\n",
       "    .dataframe thead th {\n",
       "        text-align: right;\n",
       "    }\n",
       "</style>\n",
       "<table border=\"1\" class=\"dataframe\">\n",
       "  <thead>\n",
       "    <tr style=\"text-align: right;\">\n",
       "      <th></th>\n",
       "      <th>Outlier_Percent</th>\n",
       "    </tr>\n",
       "  </thead>\n",
       "  <tbody>\n",
       "    <tr>\n",
       "      <th>PAY_AMT4</th>\n",
       "      <td>9.980000</td>\n",
       "    </tr>\n",
       "    <tr>\n",
       "      <th>PAY_AMT6</th>\n",
       "      <td>9.860000</td>\n",
       "    </tr>\n",
       "    <tr>\n",
       "      <th>PAY_AMT5</th>\n",
       "      <td>9.816667</td>\n",
       "    </tr>\n",
       "    <tr>\n",
       "      <th>PAY_AMT1</th>\n",
       "      <td>9.150000</td>\n",
       "    </tr>\n",
       "    <tr>\n",
       "      <th>BILL_AMT5</th>\n",
       "      <td>9.083333</td>\n",
       "    </tr>\n",
       "    <tr>\n",
       "      <th>PAY_AMT2</th>\n",
       "      <td>9.046667</td>\n",
       "    </tr>\n",
       "    <tr>\n",
       "      <th>BILL_AMT6</th>\n",
       "      <td>8.976667</td>\n",
       "    </tr>\n",
       "    <tr>\n",
       "      <th>BILL_AMT4</th>\n",
       "      <td>8.740000</td>\n",
       "    </tr>\n",
       "    <tr>\n",
       "      <th>PAY_AMT3</th>\n",
       "      <td>8.660000</td>\n",
       "    </tr>\n",
       "    <tr>\n",
       "      <th>BILL_AMT3</th>\n",
       "      <td>8.230000</td>\n",
       "    </tr>\n",
       "    <tr>\n",
       "      <th>BILL_AMT1</th>\n",
       "      <td>8.000000</td>\n",
       "    </tr>\n",
       "    <tr>\n",
       "      <th>BILL_AMT2</th>\n",
       "      <td>7.983333</td>\n",
       "    </tr>\n",
       "    <tr>\n",
       "      <th>AGE</th>\n",
       "      <td>0.906667</td>\n",
       "    </tr>\n",
       "    <tr>\n",
       "      <th>LIMIT_BAL</th>\n",
       "      <td>0.556667</td>\n",
       "    </tr>\n",
       "  </tbody>\n",
       "</table>\n",
       "</div>"
      ],
      "text/plain": [
       "           Outlier_Percent\n",
       "PAY_AMT4          9.980000\n",
       "PAY_AMT6          9.860000\n",
       "PAY_AMT5          9.816667\n",
       "PAY_AMT1          9.150000\n",
       "BILL_AMT5         9.083333\n",
       "PAY_AMT2          9.046667\n",
       "BILL_AMT6         8.976667\n",
       "BILL_AMT4         8.740000\n",
       "PAY_AMT3          8.660000\n",
       "BILL_AMT3         8.230000\n",
       "BILL_AMT1         8.000000\n",
       "BILL_AMT2         7.983333\n",
       "AGE               0.906667\n",
       "LIMIT_BAL         0.556667"
      ]
     },
     "execution_count": 58,
     "metadata": {},
     "output_type": "execute_result"
    }
   ],
   "source": [
    "import pandas as pd\n",
    "\n",
    "# List of main numerical columns to check\n",
    "num_cols = ['LIMIT_BAL', 'AGE', \n",
    "            'BILL_AMT1', 'BILL_AMT2', 'BILL_AMT3', \n",
    "            'BILL_AMT4', 'BILL_AMT5', 'BILL_AMT6',\n",
    "            'PAY_AMT1', 'PAY_AMT2', 'PAY_AMT3', \n",
    "            'PAY_AMT4', 'PAY_AMT5', 'PAY_AMT6']\n",
    "\n",
    "# Detect outliers using IQR\n",
    "outliers = {}\n",
    "for col in num_cols:\n",
    "    Q1 = df[col].quantile(0.25)\n",
    "    Q3 = df[col].quantile(0.75)\n",
    "    IQR = Q3 - Q1\n",
    "    lower_bound = Q1 - 1.5 * IQR\n",
    "    upper_bound = Q3 + 1.5 * IQR\n",
    "    outlier_count = ((df[col] < lower_bound) | (df[col] > upper_bound)).sum()\n",
    "    outlier_percent = (outlier_count / len(df[col])) * 100\n",
    "    outliers[col] = outlier_percent\n",
    "\n",
    "pd.DataFrame.from_dict(outliers, orient='index', columns=['Outlier_Percent']).sort_values(by='Outlier_Percent', ascending=False)\n"
   ]
  },
  {
   "cell_type": "code",
   "execution_count": 59,
   "id": "8d80898a",
   "metadata": {},
   "outputs": [
    {
     "name": "stdout",
     "output_type": "stream",
     "text": [
      "SEX\n",
      "0    18112\n",
      "1    11888\n",
      "Name: count, dtype: int64\n"
     ]
    }
   ],
   "source": [
    "df['SEX'] = df['SEX'].map({1: 1, 2: 0})\n",
    "\n",
    "print(df['SEX'].value_counts())"
   ]
  },
  {
   "cell_type": "code",
   "execution_count": 60,
   "id": "5ae3c498",
   "metadata": {},
   "outputs": [],
   "source": [
    "df['EDUCATION'] = df['EDUCATION'].replace({0: 4, 5: 4, 6: 4})\n"
   ]
  },
  {
   "cell_type": "code",
   "execution_count": 61,
   "id": "41daafb5",
   "metadata": {},
   "outputs": [],
   "source": [
    "df['MARRIAGE'] = df['MARRIAGE'].replace({0: 3})"
   ]
  },
  {
   "cell_type": "code",
   "execution_count": 62,
   "id": "8b7dd1de",
   "metadata": {},
   "outputs": [
    {
     "name": "stdout",
     "output_type": "stream",
     "text": [
      "SEX\n",
      "0    18112\n",
      "1    11888\n",
      "Name: count, dtype: int64\n",
      "EDUCATION\n",
      "2    14030\n",
      "1    10585\n",
      "3     4917\n",
      "4      468\n",
      "Name: count, dtype: int64\n",
      "MARRIAGE\n",
      "2    15964\n",
      "1    13659\n",
      "3      377\n",
      "Name: count, dtype: int64\n"
     ]
    }
   ],
   "source": [
    "print(df['SEX'].value_counts())\n",
    "print(df['EDUCATION'].value_counts())\n",
    "print(df['MARRIAGE'].value_counts())\n"
   ]
  },
  {
   "cell_type": "code",
   "execution_count": null,
   "id": "57894287",
   "metadata": {},
   "outputs": [],
   "source": [
    "#onehotencoding educacation column          \n"
   ]
  },
  {
   "cell_type": "code",
   "execution_count": 64,
   "id": "6459111c",
   "metadata": {},
   "outputs": [
    {
     "data": {
      "text/html": [
       "<div>\n",
       "<style scoped>\n",
       "    .dataframe tbody tr th:only-of-type {\n",
       "        vertical-align: middle;\n",
       "    }\n",
       "\n",
       "    .dataframe tbody tr th {\n",
       "        vertical-align: top;\n",
       "    }\n",
       "\n",
       "    .dataframe thead th {\n",
       "        text-align: right;\n",
       "    }\n",
       "</style>\n",
       "<table border=\"1\" class=\"dataframe\">\n",
       "  <thead>\n",
       "    <tr style=\"text-align: right;\">\n",
       "      <th></th>\n",
       "      <th>LIMIT_BAL</th>\n",
       "      <th>AGE</th>\n",
       "      <th>PAY_0</th>\n",
       "      <th>PAY_2</th>\n",
       "      <th>PAY_3</th>\n",
       "      <th>PAY_4</th>\n",
       "      <th>PAY_5</th>\n",
       "      <th>PAY_6</th>\n",
       "      <th>BILL_AMT1</th>\n",
       "      <th>BILL_AMT2</th>\n",
       "      <th>...</th>\n",
       "      <th>PAY_AMT6</th>\n",
       "      <th>default</th>\n",
       "      <th>avg_bill_amt</th>\n",
       "      <th>avg_pay_amt</th>\n",
       "      <th>EDUCATION_2</th>\n",
       "      <th>EDUCATION_3</th>\n",
       "      <th>EDUCATION_4</th>\n",
       "      <th>SEX_1</th>\n",
       "      <th>MARRIAGE_2</th>\n",
       "      <th>MARRIAGE_3</th>\n",
       "    </tr>\n",
       "  </thead>\n",
       "  <tbody>\n",
       "    <tr>\n",
       "      <th>0</th>\n",
       "      <td>20000.0</td>\n",
       "      <td>24</td>\n",
       "      <td>2</td>\n",
       "      <td>2</td>\n",
       "      <td>-1</td>\n",
       "      <td>-1</td>\n",
       "      <td>-2</td>\n",
       "      <td>-2</td>\n",
       "      <td>3913.0</td>\n",
       "      <td>3102.0</td>\n",
       "      <td>...</td>\n",
       "      <td>0.0</td>\n",
       "      <td>1</td>\n",
       "      <td>1284.000000</td>\n",
       "      <td>114.833333</td>\n",
       "      <td>1.0</td>\n",
       "      <td>0.0</td>\n",
       "      <td>0.0</td>\n",
       "      <td>0.0</td>\n",
       "      <td>0.0</td>\n",
       "      <td>0.0</td>\n",
       "    </tr>\n",
       "    <tr>\n",
       "      <th>1</th>\n",
       "      <td>120000.0</td>\n",
       "      <td>26</td>\n",
       "      <td>-1</td>\n",
       "      <td>2</td>\n",
       "      <td>0</td>\n",
       "      <td>0</td>\n",
       "      <td>0</td>\n",
       "      <td>2</td>\n",
       "      <td>2682.0</td>\n",
       "      <td>1725.0</td>\n",
       "      <td>...</td>\n",
       "      <td>2000.0</td>\n",
       "      <td>1</td>\n",
       "      <td>2846.166667</td>\n",
       "      <td>833.333333</td>\n",
       "      <td>1.0</td>\n",
       "      <td>0.0</td>\n",
       "      <td>0.0</td>\n",
       "      <td>0.0</td>\n",
       "      <td>1.0</td>\n",
       "      <td>0.0</td>\n",
       "    </tr>\n",
       "    <tr>\n",
       "      <th>2</th>\n",
       "      <td>90000.0</td>\n",
       "      <td>34</td>\n",
       "      <td>0</td>\n",
       "      <td>0</td>\n",
       "      <td>0</td>\n",
       "      <td>0</td>\n",
       "      <td>0</td>\n",
       "      <td>0</td>\n",
       "      <td>29239.0</td>\n",
       "      <td>14027.0</td>\n",
       "      <td>...</td>\n",
       "      <td>5000.0</td>\n",
       "      <td>0</td>\n",
       "      <td>16942.166667</td>\n",
       "      <td>1836.333333</td>\n",
       "      <td>1.0</td>\n",
       "      <td>0.0</td>\n",
       "      <td>0.0</td>\n",
       "      <td>0.0</td>\n",
       "      <td>1.0</td>\n",
       "      <td>0.0</td>\n",
       "    </tr>\n",
       "    <tr>\n",
       "      <th>3</th>\n",
       "      <td>50000.0</td>\n",
       "      <td>37</td>\n",
       "      <td>0</td>\n",
       "      <td>0</td>\n",
       "      <td>0</td>\n",
       "      <td>0</td>\n",
       "      <td>0</td>\n",
       "      <td>0</td>\n",
       "      <td>46990.0</td>\n",
       "      <td>48233.0</td>\n",
       "      <td>...</td>\n",
       "      <td>1000.0</td>\n",
       "      <td>0</td>\n",
       "      <td>38555.666667</td>\n",
       "      <td>1398.000000</td>\n",
       "      <td>1.0</td>\n",
       "      <td>0.0</td>\n",
       "      <td>0.0</td>\n",
       "      <td>0.0</td>\n",
       "      <td>0.0</td>\n",
       "      <td>0.0</td>\n",
       "    </tr>\n",
       "    <tr>\n",
       "      <th>4</th>\n",
       "      <td>50000.0</td>\n",
       "      <td>57</td>\n",
       "      <td>-1</td>\n",
       "      <td>0</td>\n",
       "      <td>-1</td>\n",
       "      <td>0</td>\n",
       "      <td>0</td>\n",
       "      <td>0</td>\n",
       "      <td>8617.0</td>\n",
       "      <td>5670.0</td>\n",
       "      <td>...</td>\n",
       "      <td>679.0</td>\n",
       "      <td>0</td>\n",
       "      <td>18223.166667</td>\n",
       "      <td>9841.500000</td>\n",
       "      <td>1.0</td>\n",
       "      <td>0.0</td>\n",
       "      <td>0.0</td>\n",
       "      <td>1.0</td>\n",
       "      <td>0.0</td>\n",
       "      <td>0.0</td>\n",
       "    </tr>\n",
       "  </tbody>\n",
       "</table>\n",
       "<p>5 rows × 29 columns</p>\n",
       "</div>"
      ],
      "text/plain": [
       "   LIMIT_BAL  AGE  PAY_0  PAY_2  PAY_3  PAY_4  PAY_5  PAY_6  BILL_AMT1  \\\n",
       "0    20000.0   24      2      2     -1     -1     -2     -2     3913.0   \n",
       "1   120000.0   26     -1      2      0      0      0      2     2682.0   \n",
       "2    90000.0   34      0      0      0      0      0      0    29239.0   \n",
       "3    50000.0   37      0      0      0      0      0      0    46990.0   \n",
       "4    50000.0   57     -1      0     -1      0      0      0     8617.0   \n",
       "\n",
       "   BILL_AMT2  ...  PAY_AMT6  default  avg_bill_amt  avg_pay_amt  EDUCATION_2  \\\n",
       "0     3102.0  ...       0.0        1   1284.000000   114.833333          1.0   \n",
       "1     1725.0  ...    2000.0        1   2846.166667   833.333333          1.0   \n",
       "2    14027.0  ...    5000.0        0  16942.166667  1836.333333          1.0   \n",
       "3    48233.0  ...    1000.0        0  38555.666667  1398.000000          1.0   \n",
       "4     5670.0  ...     679.0        0  18223.166667  9841.500000          1.0   \n",
       "\n",
       "   EDUCATION_3  EDUCATION_4  SEX_1  MARRIAGE_2  MARRIAGE_3  \n",
       "0          0.0          0.0    0.0         0.0         0.0  \n",
       "1          0.0          0.0    0.0         1.0         0.0  \n",
       "2          0.0          0.0    0.0         1.0         0.0  \n",
       "3          0.0          0.0    0.0         0.0         0.0  \n",
       "4          0.0          0.0    1.0         0.0         0.0  \n",
       "\n",
       "[5 rows x 29 columns]"
      ]
     },
     "execution_count": 64,
     "metadata": {},
     "output_type": "execute_result"
    }
   ],
   "source": [
    "df.head()"
   ]
  },
  {
   "cell_type": "code",
   "execution_count": null,
   "id": "28c59124",
   "metadata": {},
   "outputs": [],
   "source": []
  }
 ],
 "metadata": {
  "kernelspec": {
   "display_name": ".venv",
   "language": "python",
   "name": "python3"
  },
  "language_info": {
   "codemirror_mode": {
    "name": "ipython",
    "version": 3
   },
   "file_extension": ".py",
   "mimetype": "text/x-python",
   "name": "python",
   "nbconvert_exporter": "python",
   "pygments_lexer": "ipython3",
   "version": "3.13.4"
  }
 },
 "nbformat": 4,
 "nbformat_minor": 5
}
